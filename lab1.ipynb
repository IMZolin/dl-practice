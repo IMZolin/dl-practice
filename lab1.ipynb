{
 "cells": [
  {
   "metadata": {
    "ExecuteTime": {
     "end_time": "2024-10-16T15:18:45.214023Z",
     "start_time": "2024-10-16T15:18:45.166900Z"
    }
   },
   "cell_type": "code",
   "source": [
    "import math\n",
    "import numpy as np\n",
    "from torch import nn\n",
    "from torch.nn import init\n",
    "from torch.nn.modules import loss\n",
    "import torch\n",
    "from utils import gradient_descent, dist, sgd"
   ],
   "id": "c1b0288384856fd",
   "outputs": [],
   "execution_count": 32
  },
  {
   "metadata": {
    "ExecuteTime": {
     "end_time": "2024-10-16T15:18:46.773323Z",
     "start_time": "2024-10-16T15:18:46.757229Z"
    }
   },
   "cell_type": "code",
   "source": [
    "import matplotlib\n",
    "matplotlib.use('Agg')\n",
    "import matplotlib.pyplot as plt\n",
    "%matplotlib inline"
   ],
   "id": "ca569370dbecc413",
   "outputs": [],
   "execution_count": 33
  },
  {
   "metadata": {},
   "cell_type": "markdown",
   "source": [
    "## Восставновление матрицы малого ранга (5 баллов)\n",
    "\n",
    "Есть неизвестная матрица X_taget. (В тетрадке она хранится явно, для самопроверки)\n",
    "X_noised - зашумленная матрица, по которой нужно восстановить X_taget.\n",
    "\n",
    "Для решения задачи. Нужно задать две матрицы $H$, $W$ и найти минимум $|| W * H = X_{noisy} ||$ методом градиентного спуска.\n",
    "\n",
    "Явно пропишите градиенты матриц в градиентном спуске, не используя автоматическое дифференцирование.\n",
    "\n",
    "Напишите градиетный спуск и подберите learning rate и количетсво итераций.\n"
   ],
   "id": "d5b5f4d75de28720"
  },
  {
   "metadata": {
    "collapsed": true,
    "ExecuteTime": {
     "end_time": "2024-10-16T15:18:48.373705Z",
     "start_time": "2024-10-16T15:18:48.368383Z"
    }
   },
   "cell_type": "code",
   "source": [
    "def get_x():\n",
    "    np.random.seed(12345)\n",
    "    w_ = np.random.randn(73, 6)\n",
    "    h_ = np.random.randn(6, 46)\n",
    "    x_target = w_.dot(h_)\n",
    "    return torch.tensor(x_target, dtype=torch.float32), torch.tensor(x_target + np.random.randn(73, 46) * 0.1, dtype=torch.float32)"
   ],
   "id": "initial_id",
   "outputs": [],
   "execution_count": 34
  },
  {
   "metadata": {
    "ExecuteTime": {
     "end_time": "2024-10-16T15:18:50.383899Z",
     "start_time": "2024-10-16T15:18:50.371716Z"
    }
   },
   "cell_type": "code",
   "source": [
    "X_target, X_noisy = get_x()\n",
    "W = torch.randn(73, 6, requires_grad=False, dtype=torch.float32)\n",
    "H = torch.randn(6, 46, requires_grad=False, dtype=torch.float32)"
   ],
   "id": "bcde8f474a8038a6",
   "outputs": [],
   "execution_count": 35
  },
  {
   "metadata": {
    "ExecuteTime": {
     "end_time": "2024-10-16T15:18:52.130242Z",
     "start_time": "2024-10-16T15:18:52.127252Z"
    }
   },
   "cell_type": "code",
   "source": [
    "learning_rate = 1e-4\n",
    "num_iterations = 2000"
   ],
   "id": "262d0c00e9806871",
   "outputs": [],
   "execution_count": 36
  },
  {
   "metadata": {
    "ExecuteTime": {
     "end_time": "2024-10-16T15:18:53.620027Z",
     "start_time": "2024-10-16T15:18:53.515882Z"
    }
   },
   "cell_type": "code",
   "source": "losses = gradient_descent(X_noisy, W, H, num_iterations, learning_rate)",
   "id": "43b232e1cfb7c3ae",
   "outputs": [],
   "execution_count": 37
  },
  {
   "metadata": {
    "ExecuteTime": {
     "end_time": "2024-10-16T15:18:55.544765Z",
     "start_time": "2024-10-16T15:18:55.417368Z"
    }
   },
   "cell_type": "code",
   "source": [
    "plt.plot(range(0, num_iterations, 100), losses)\n",
    "plt.xlabel('Iterations')\n",
    "plt.ylabel('Loss')\n",
    "plt.title('Gradient Descent Loss Over Iterations')\n",
    "plt.grid(True)\n",
    "plt.show()"
   ],
   "id": "9a8d0d98481bb576",
   "outputs": [
    {
     "data": {
      "text/plain": [
       "<Figure size 640x480 with 1 Axes>"
      ],
      "image/png": "[encoded data removed]"
     },
     "metadata": {},
     "output_type": "display_data"
    }
   ],
   "execution_count": 38
  },
  {
   "metadata": {
    "ExecuteTime": {
     "end_time": "2024-10-16T15:18:58.721578Z",
     "start_time": "2024-10-16T15:18:58.716986Z"
    }
   },
   "cell_type": "code",
   "source": [
    "base_dist = dist(X_noisy, X_target).item()\n",
    "recovered_dist = dist(W.matmul(H), X_target).item()"
   ],
   "id": "2a74186ffe33ae07",
   "outputs": [],
   "execution_count": 39
  },
  {
   "metadata": {
    "ExecuteTime": {
     "end_time": "2024-10-16T15:19:00.371949Z",
     "start_time": "2024-10-16T15:19:00.368573Z"
    }
   },
   "cell_type": "code",
   "source": [
    "print(f\"Distance to noisy matrix:     {base_dist}\")\n",
    "print(f\"Distance to recovered matrix: {recovered_dist}\")\n",
    "print(base_dist / recovered_dist)"
   ],
   "id": "377c37c8dd422b8c",
   "outputs": [
    {
     "name": "stdout",
     "output_type": "stream",
     "text": [
      "Distance to noisy matrix:     0.010014712810516357\n",
      "Distance to recovered matrix: 0.002183907898142934\n",
      "4.585684597336855\n"
     ]
    }
   ],
   "execution_count": 40
  },
  {
   "metadata": {
    "ExecuteTime": {
     "end_time": "2024-10-16T15:19:03.379474Z",
     "start_time": "2024-10-16T15:19:03.375980Z"
    }
   },
   "cell_type": "code",
   "source": "assert recovered_dist < base_dist",
   "id": "b29716247ccc2774",
   "outputs": [],
   "execution_count": 41
  },
  {
   "metadata": {},
   "cell_type": "markdown",
   "source": [
    "## Эластичная веревка (7 баллов)\n",
    "\n",
    "Эластичная веревка свободно провисает между двумя опорами. Нужно смоделировать какую форму примет веревка.\n",
    "\n",
    "Представим веревку как набор одинаковых грузов, соединенных невесомыми пружинами. Нам требуется найти такое положение грузов, в котором суммарная потенциальная энергия будет минимальна.\n",
    "\n",
    "Потенциальная энергия груза зависит от высоты:\n",
    "\n",
    "$$ E^m_i = mgh_i = mgy_i $$\n",
    "\n",
    "Потенциальная энергия пружины зависит от расстояния между соседним грузами $ d_{i, i+1} $\n",
    "\n",
    "$$ E^s_{i,i+1} = k (d_{i, i+1} - d_0) ^ 2 / 2 $$\n",
    "\n",
    "Запишите выражение для энергии и найдите минимум методом градиентного спуска. (Не забудьте, что крайние грузы зафиксированы их положение всегда равно начальному)\n",
    "\n",
    "Ниже заданы все необходимые константы:\n",
    "* `g` - ускорение свободного падения $g$\n",
    "* `x_start`, `y_start` - начальные координаты грузов\n",
    "* `start_dist` - длина пружины с свобдном состоянии $d_0$\n",
    "* `k` - коэффициент упругости пружины $k$\n",
    "* `mass` - масса груза $m$\n",
    "\n",
    "Формулами пропишите вычисление градиента, не используйте авт"
   ],
   "id": "867045c745eecb2b"
  },
  {
   "metadata": {
    "ExecuteTime": {
     "end_time": "2024-10-16T07:57:17.025899Z",
     "start_time": "2024-10-16T07:57:17.021535Z"
    }
   },
   "cell_type": "code",
   "source": [
    "joints_number = 40\n",
    "g = 9.81 # м/с2\n",
    "\n",
    "x_start = np.linspace(0, 1, num=joints_number + 1)\n",
    "y_start = np.zeros(joints_number + 1)\n",
    "\n",
    "start_dist = 1 / joints_number # м\n",
    "k = 1 * joints_number # Н/м\n",
    "mass = 0.01 / (joints_number + 1) # кг"
   ],
   "id": "8f1ecb6243b89f5d",
   "outputs": [],
   "execution_count": 13
  },
  {
   "metadata": {
    "ExecuteTime": {
     "end_time": "2024-10-16T07:57:18.615242Z",
     "start_time": "2024-10-16T07:57:18.590610Z"
    }
   },
   "cell_type": "code",
   "source": [
    "plt.axis(\"off\")\n",
    "plt.plot(x_start, y_start, marker='o')\n",
    "plt.show()"
   ],
   "id": "898989c9e6836de9",
   "outputs": [
    {
     "data": {
      "text/plain": [
       "<Figure size 640x480 with 1 Axes>"
      ],
      "image/png": "[encoded data removed]"
     },
     "metadata": {},
     "output_type": "display_data"
    }
   ],
   "execution_count": 14
  },
  {
   "metadata": {
    "ExecuteTime": {
     "end_time": "2024-10-16T07:57:23.262892Z",
     "start_time": "2024-10-16T07:57:23.258316Z"
    }
   },
   "cell_type": "code",
   "source": [
    "def E_mass(x, y):\n",
    "    return mass * g * torch.sum(y)\n",
    "\n",
    "def E_springs(x, y):\n",
    "    total_energy = 0.0\n",
    "    for i in range(joints_number):\n",
    "        dx = x[i+1] - x[i]\n",
    "        dy = y[i+1] - y[i]\n",
    "        length = torch.sqrt(dx**2 + dy**2)\n",
    "        total_energy += 0.5 * k * (length - start_dist)**2\n",
    "    return total_energy\n",
    "\n",
    "def E(x, y):\n",
    "    return E_mass(x, y) + E_springs(x, y)\n",
    "\n",
    "def callback(iteration, loss_value):\n",
    "    if iteration % 1000 == 0:\n",
    "        print(f\"Iteration {iteration}: Energy = {loss_value}\")"
   ],
   "id": "a55f0b66d991c8cc",
   "outputs": [],
   "execution_count": 17
  },
  {
   "metadata": {
    "ExecuteTime": {
     "end_time": "2024-10-16T07:59:45.069905Z",
     "start_time": "2024-10-16T07:59:45.067455Z"
    }
   },
   "cell_type": "code",
   "source": [
    "x = torch.tensor(x_start, requires_grad=True, dtype=torch.float32)\n",
    "y = torch.tensor(y_start, requires_grad=True, dtype=torch.float32)"
   ],
   "id": "975dbae3de99dbd0",
   "outputs": [],
   "execution_count": 28
  },
  {
   "metadata": {
    "ExecuteTime": {
     "end_time": "2024-10-16T07:59:46.214592Z",
     "start_time": "2024-10-16T07:59:46.211102Z"
    }
   },
   "cell_type": "code",
   "source": [
    "learning_rate = 1e-2\n",
    "num_iterations = 10000"
   ],
   "id": "c216594aabcd2943",
   "outputs": [],
   "execution_count": 29
  },
  {
   "metadata": {
    "ExecuteTime": {
     "end_time": "2024-10-16T07:59:55.146518Z",
     "start_time": "2024-10-16T07:59:47.144316Z"
    }
   },
   "cell_type": "code",
   "source": [
    "params = [x, y]\n",
    "params_optimized = sgd(params=params, loss_fn=E, num_iterations=num_iterations, learning_rate=learning_rate, stop_loss_value=-0.007, fix_ends=True, callback=callback)"
   ],
   "id": "52da2b1ccdfa150e",
   "outputs": [
    {
     "name": "stdout",
     "output_type": "stream",
     "text": [
      "Iteration 0: Energy = 3.7511660444522477e-13\n",
      "Iteration 1000: Energy = -0.002097569638863206\n",
      "Iteration 2000: Energy = -0.003849529894068837\n",
      "Iteration 3000: Energy = -0.00525496993213892\n",
      "Iteration 4000: Energy = -0.00631954800337553\n",
      "Iteration 4908: Reached stop loss value = -0.007. Stopping optimization.\n"
     ]
    }
   ],
   "execution_count": 30
  },
  {
   "metadata": {
    "ExecuteTime": {
     "end_time": "2024-10-16T08:00:58.213141Z",
     "start_time": "2024-10-16T08:00:58.162765Z"
    }
   },
   "cell_type": "code",
   "source": [
    "plt.plot(params_optimized[0].detach().numpy(), params_optimized[1].detach().numpy(), label=\"Fix ends\", marker='o')\n",
    "plt.show()"
   ],
   "id": "930c9090a38d79d8",
   "outputs": [
    {
     "data": {
      "text/plain": [
       "<Figure size 640x480 with 1 Axes>"
      ],
      "image/png": "[encoded data removed]"
     },
     "metadata": {},
     "output_type": "display_data"
    }
   ],
   "execution_count": 31
  }
 ],
 "metadata": {
  "kernelspec": {
   "display_name": "Python 3",
   "language": "python",
   "name": "python3"
  },
  "language_info": {
   "codemirror_mode": {
    "name": "ipython",
    "version": 2
   },
   "file_extension": ".py",
   "mimetype": "text/x-python",
   "name": "python",
   "nbconvert_exporter": "python",
   "pygments_lexer": "ipython2",
   "version": "2.7.6"
  }
 },
 "nbformat": 4,
 "nbformat_minor": 5
}
