{
 "cells": [
  {
   "metadata": {
    "ExecuteTime": {
     "end_time": "2024-10-21T14:13:53.479171Z",
     "start_time": "2024-10-21T14:13:52.725595Z"
    }
   },
   "cell_type": "code",
   "source": [
    "import math\n",
    "import numpy as np\n",
    "from torch import nn\n",
    "from torch.nn import init\n",
    "from torch.nn.modules import loss\n",
    "import torch\n",
    "from utils import gradient_descent, dist"
   ],
   "id": "c1b0288384856fd",
   "outputs": [],
   "execution_count": 1
  },
  {
   "metadata": {
    "ExecuteTime": {
     "end_time": "2024-10-21T08:48:02.798885Z",
     "start_time": "2024-10-21T08:48:02.540909Z"
    }
   },
   "cell_type": "code",
   "source": [
    "import matplotlib\n",
    "matplotlib.use('Agg')\n",
    "import matplotlib.pyplot as plt\n",
    "%matplotlib inline"
   ],
   "id": "ca569370dbecc413",
   "outputs": [],
   "execution_count": 3
  },
  {
   "metadata": {},
   "cell_type": "markdown",
   "source": [
    "## Восставновление матрицы малого ранга (5 баллов)\n",
    "\n",
    "Есть неизвестная матрица X_taget. (В тетрадке она хранится явно, для самопроверки)\n",
    "X_noised - зашумленная матрица, по которой нужно восстановить X_taget.\n",
    "\n",
    "Для решения задачи. Нужно задать две матрицы $H$, $W$ и найти минимум $|| W * H = X_{noisy} ||$ методом градиентного спуска.\n",
    "\n",
    "Явно пропишите градиенты матриц в градиентном спуске, не используя автоматическое дифференцирование.\n",
    "\n",
    "Напишите градиетный спуск и подберите learning rate и количетсво итераций.\n"
   ],
   "id": "d5b5f4d75de28720"
  },
  {
   "metadata": {
    "collapsed": true,
    "ExecuteTime": {
     "end_time": "2024-10-21T08:48:05.066936Z",
     "start_time": "2024-10-21T08:48:05.062682Z"
    }
   },
   "cell_type": "code",
   "source": [
    "def get_x():\n",
    "    np.random.seed(12345)\n",
    "    w_ = np.random.randn(73, 6)\n",
    "    h_ = np.random.randn(6, 46)\n",
    "    x_target = w_.dot(h_)\n",
    "    return torch.tensor(x_target, dtype=torch.float32), torch.tensor(x_target + np.random.randn(73, 46) * 0.1, dtype=torch.float32)"
   ],
   "id": "initial_id",
   "outputs": [],
   "execution_count": 4
  },
  {
   "metadata": {
    "ExecuteTime": {
     "end_time": "2024-10-21T08:48:08.191220Z",
     "start_time": "2024-10-21T08:48:08.169411Z"
    }
   },
   "cell_type": "code",
   "source": [
    "X_target, X_noisy = get_x()\n",
    "W = torch.randn(73, 6, requires_grad=False, dtype=torch.float32)\n",
    "H = torch.randn(6, 46, requires_grad=False, dtype=torch.float32)"
   ],
   "id": "bcde8f474a8038a6",
   "outputs": [],
   "execution_count": 5
  },
  {
   "metadata": {
    "ExecuteTime": {
     "end_time": "2024-10-21T08:48:11.019662Z",
     "start_time": "2024-10-21T08:48:11.016965Z"
    }
   },
   "cell_type": "code",
   "source": [
    "learning_rate = 1e-4\n",
    "num_iterations = 2000"
   ],
   "id": "262d0c00e9806871",
   "outputs": [],
   "execution_count": 6
  },
  {
   "metadata": {
    "ExecuteTime": {
     "end_time": "2024-10-21T08:48:13.556531Z",
     "start_time": "2024-10-21T08:48:13.495497Z"
    }
   },
   "cell_type": "code",
   "source": "losses = gradient_descent(X_noisy, W, H, num_iterations, learning_rate)",
   "id": "43b232e1cfb7c3ae",
   "outputs": [],
   "execution_count": 7
  },
  {
   "metadata": {
    "ExecuteTime": {
     "end_time": "2024-10-21T08:48:16.666637Z",
     "start_time": "2024-10-21T08:48:16.569469Z"
    }
   },
   "cell_type": "code",
   "source": [
    "plt.plot(range(0, num_iterations, 100), losses)\n",
    "plt.xlabel('Iterations')\n",
    "plt.ylabel('Loss')\n",
    "plt.title('Gradient Descent Loss Over Iterations')\n",
    "plt.grid(True)\n",
    "plt.show()"
   ],
   "id": "9a8d0d98481bb576",
   "outputs": [
    {
     "data": {
      "text/plain": [
       "<Figure size 640x480 with 1 Axes>"
      ],
      "image/png": "[encoded data removed]"
     },
     "metadata": {},
     "output_type": "display_data"
    }
   ],
   "execution_count": 8
  },
  {
   "metadata": {
    "ExecuteTime": {
     "end_time": "2024-10-21T08:48:22.507540Z",
     "start_time": "2024-10-21T08:48:22.503325Z"
    }
   },
   "cell_type": "code",
   "source": [
    "base_dist = dist(X_noisy, X_target).item()\n",
    "recovered_dist = dist(W.matmul(H), X_target).item()"
   ],
   "id": "2a74186ffe33ae07",
   "outputs": [],
   "execution_count": 9
  },
  {
   "metadata": {
    "ExecuteTime": {
     "end_time": "2024-10-21T08:48:25.438835Z",
     "start_time": "2024-10-21T08:48:25.435896Z"
    }
   },
   "cell_type": "code",
   "source": [
    "print(f\"Distance to noisy matrix:     {base_dist}\")\n",
    "print(f\"Distance to recovered matrix: {recovered_dist}\")\n",
    "print(base_dist / recovered_dist)"
   ],
   "id": "377c37c8dd422b8c",
   "outputs": [
    {
     "name": "stdout",
     "output_type": "stream",
     "text": [
      "Distance to noisy matrix:     0.010014712810516357\n",
      "Distance to recovered matrix: 0.0022167772985994816\n",
      "4.517690079577893\n"
     ]
    }
   ],
   "execution_count": 10
  },
  {
   "metadata": {
    "ExecuteTime": {
     "end_time": "2024-10-21T08:48:28.350558Z",
     "start_time": "2024-10-21T08:48:28.348890Z"
    }
   },
   "cell_type": "code",
   "source": "assert recovered_dist < base_dist",
   "id": "b29716247ccc2774",
   "outputs": [],
   "execution_count": 11
  },
  {
   "metadata": {},
   "cell_type": "markdown",
   "source": [
    "## Эластичная веревка (7 баллов)\n",
    "\n",
    "Эластичная веревка свободно провисает между двумя опорами. Нужно смоделировать какую форму примет веревка.\n",
    "\n",
    "Представим веревку как набор одинаковых грузов, соединенных невесомыми пружинами. Нам требуется найти такое положение грузов, в котором суммарная потенциальная энергия будет минимальна.\n",
    "\n",
    "Потенциальная энергия груза зависит от высоты:\n",
    "\n",
    "$$ E^m_i = mgh_i = mgy_i $$\n",
    "\n",
    "Потенциальная энергия пружины зависит от расстояния между соседним грузами $ d_{i, i+1} $\n",
    "\n",
    "$$ E^s_{i,i+1} = k (d_{i, i+1} - d_0) ^ 2 / 2 $$\n",
    "\n",
    "Запишите выражение для энергии и найдите минимум методом градиентного спуска. (Не забудьте, что крайние грузы зафиксированы их положение всегда равно начальному)\n",
    "\n",
    "Ниже заданы все необходимые константы:\n",
    "* `g` - ускорение свободного падения $g$\n",
    "* `x_start`, `y_start` - начальные координаты грузов\n",
    "* `start_dist` - длина пружины с свобдном состоянии $d_0$\n",
    "* `k` - коэффициент упругости пружины $k$\n",
    "* `mass` - масса груза $m$\n",
    "\n",
    "Формулами пропишите вычисление градиента, не используйте авт"
   ],
   "id": "867045c745eecb2b"
  },
  {
   "metadata": {
    "ExecuteTime": {
     "end_time": "2024-10-21T13:00:34.755387Z",
     "start_time": "2024-10-21T13:00:34.743492Z"
    }
   },
   "cell_type": "code",
   "source": [
    "joints_number = 40\n",
    "g = 9.81 # м/с2\n",
    "\n",
    "x_start = np.linspace(0, 1, num=joints_number + 1)\n",
    "y_start = np.zeros(joints_number + 1)\n",
    "\n",
    "start_dist = 1 / joints_number # м\n",
    "k = 1 * joints_number # Н/м\n",
    "mass = 0.01 / (joints_number + 1) # кг"
   ],
   "id": "8f1ecb6243b89f5d",
   "outputs": [],
   "execution_count": 24
  },
  {
   "metadata": {
    "ExecuteTime": {
     "end_time": "2024-10-21T13:00:35.469951Z",
     "start_time": "2024-10-21T13:00:35.441841Z"
    }
   },
   "cell_type": "code",
   "source": [
    "plt.axis(\"off\")\n",
    "plt.plot(x_start, y_start, marker='o')\n",
    "plt.show()"
   ],
   "id": "898989c9e6836de9",
   "outputs": [
    {
     "data": {
      "text/plain": [
       "<Figure size 640x480 with 1 Axes>"
      ],
      "image/png": "[encoded data removed]"
     },
     "metadata": {},
     "output_type": "display_data"
    }
   ],
   "execution_count": 25
  },
  {
   "metadata": {
    "ExecuteTime": {
     "end_time": "2024-10-21T13:00:40.897002Z",
     "start_time": "2024-10-21T13:00:40.892458Z"
    }
   },
   "cell_type": "code",
   "source": [
    "def E_mass(x, y):\n",
    "    return mass * g * torch.sum(y)\n",
    "\n",
    "def E_springs(x, y):\n",
    "    total_energy = 0.0\n",
    "    for i in range(joints_number):\n",
    "        dx = x[i+1] - x[i]\n",
    "        dy = y[i+1] - y[i]\n",
    "        length = torch.sqrt(dx**2 + dy**2)\n",
    "        total_energy += 0.5 * k * (length - start_dist)**2\n",
    "    return total_energy\n",
    "\n",
    "def E(x, y):\n",
    "    return E_mass(x, y) + E_springs(x, y)\n",
    "\n",
    "def callback(iteration, loss_value):\n",
    "    if iteration % 1000 == 0:\n",
    "        print(f\"Iteration {iteration}: Energy = {loss_value}\")"
   ],
   "id": "a55f0b66d991c8cc",
   "outputs": [],
   "execution_count": 26
  },
  {
   "metadata": {
    "ExecuteTime": {
     "end_time": "2024-10-21T13:00:43.677920Z",
     "start_time": "2024-10-21T13:00:43.671812Z"
    }
   },
   "cell_type": "code",
   "source": [
    "x = torch.tensor(x_start, requires_grad=True, dtype=torch.float32)\n",
    "y = torch.tensor(y_start, requires_grad=True, dtype=torch.float32)"
   ],
   "id": "975dbae3de99dbd0",
   "outputs": [],
   "execution_count": 27
  },
  {
   "metadata": {
    "ExecuteTime": {
     "end_time": "2024-10-21T13:00:47.746395Z",
     "start_time": "2024-10-21T13:00:47.742867Z"
    }
   },
   "cell_type": "code",
   "source": [
    "learning_rate = 1e-2\n",
    "num_iterations = 10000"
   ],
   "id": "c216594aabcd2943",
   "outputs": [],
   "execution_count": 28
  },
  {
   "metadata": {
    "ExecuteTime": {
     "end_time": "2024-10-21T13:00:48.602850Z",
     "start_time": "2024-10-21T13:00:48.592215Z"
    }
   },
   "cell_type": "code",
   "source": [
    "def distance(x1, y1, x2, y2):\n",
    "    return torch.sqrt((x2 - x1)**2 + (y2 - y1)**2)\n",
    "\n",
    "def grad_E_x(x, y):\n",
    "    grad_x = torch.zeros_like(x)\n",
    "    for i in range(joints_number):\n",
    "        length = distance(x[i], y[i], x[i+1], y[i+1])\n",
    "        dE_dlength = k * (length - start_dist)\n",
    "        \n",
    "        if length != 0:\n",
    "            dlength_dx = (x[i+1] - x[i]) / length\n",
    "            grad_x[i] -= dE_dlength * dlength_dx\n",
    "            grad_x[i+1] += dE_dlength * dlength_dx\n",
    "    return grad_x\n",
    "    \n",
    "def grad_E_y(x, y):\n",
    "    grad_y = torch.zeros_like(y)\n",
    "    grad_y += mass * g\n",
    "    \n",
    "    for i in range(joints_number):\n",
    "        length = distance(x[i], y[i], x[i+1], y[i+1])\n",
    "        dE_dlength = k * (length - start_dist)\n",
    "        \n",
    "        if length != 0:\n",
    "            dlength_dy = (y[i+1] - y[i]) / length\n",
    "            grad_y[i] -= dE_dlength * dlength_dy\n",
    "            grad_y[i+1] += dE_dlength * dlength_dy\n",
    "    return grad_y\n",
    "\n",
    "\n",
    "def sgd_energy(x, y, num_iterations, learning_rate, stop_loss_value=-0.007, fix_ends=True, callback=None):\n",
    "    for i in range(num_iterations):\n",
    "        grad_x, grad_y = grad_E_x(x, y), grad_E_y(x, y)\n",
    "        if fix_ends:\n",
    "            grad_x[0] = grad_x[-1] = 0\n",
    "            grad_y[0] = grad_y[-1] = 0\n",
    "        with torch.no_grad():\n",
    "            x[1:-1] = x[1:-1] - learning_rate * grad_x[1:-1]\n",
    "            y[1:-1] = y[1:-1] - learning_rate * grad_y[1:-1]\n",
    "        if callback is not None:\n",
    "            loss_value = E(x, y)\n",
    "            callback(i, loss_value)\n",
    "        if stop_loss_value is not None and E(x, y) < stop_loss_value:\n",
    "            print(f\"Iteration {i}: Reached stop loss value = {stop_loss_value}. Stopping optimization.\")\n",
    "            break\n",
    "\n",
    "    return x, y"
   ],
   "id": "e9a2e5ebb5a5d372",
   "outputs": [],
   "execution_count": 29
  },
  {
   "metadata": {
    "ExecuteTime": {
     "end_time": "2024-10-21T13:01:27.211410Z",
     "start_time": "2024-10-21T13:01:09.354084Z"
    }
   },
   "cell_type": "code",
   "source": [
    "params = [x, y]\n",
    "params_optimized = sgd_energy(x=x, y=y, num_iterations=num_iterations, learning_rate=learning_rate, stop_loss_value=-0.007, fix_ends=True, callback=callback)"
   ],
   "id": "52da2b1ccdfa150e",
   "outputs": [
    {
     "name": "stdout",
     "output_type": "stream",
     "text": [
      "Iteration 0: Energy = -2.232722863482195e-06\n",
      "Iteration 1000: Energy = -0.002099496079608798\n",
      "Iteration 2000: Energy = -0.0038511077873408794\n",
      "Iteration 3000: Energy = -0.005256203468888998\n",
      "Iteration 4000: Energy = -0.006320445332676172\n",
      "Iteration 4907: Reached stop loss value = -0.007. Stopping optimization.\n"
     ]
    }
   ],
   "execution_count": 30
  },
  {
   "metadata": {
    "ExecuteTime": {
     "end_time": "2024-10-21T13:01:32.432236Z",
     "start_time": "2024-10-21T13:01:32.375897Z"
    }
   },
   "cell_type": "code",
   "source": [
    "plt.plot(params_optimized[0].detach().numpy(), params_optimized[1].detach().numpy(), label=\"Fix ends\", marker='o')\n",
    "plt.show()"
   ],
   "id": "930c9090a38d79d8",
   "outputs": [
    {
     "data": {
      "text/plain": [
       "<Figure size 640x480 with 1 Axes>"
      ],
      "image/png": "[encoded data removed]"
     },
     "metadata": {},
     "output_type": "display_data"
    }
   ],
   "execution_count": 31
  }
 ],
 "metadata": {
  "kernelspec": {
   "display_name": "Python 3",
   "language": "python",
   "name": "python3"
  },
  "language_info": {
   "codemirror_mode": {
    "name": "ipython",
    "version": 2
   },
   "file_extension": ".py",
   "mimetype": "text/x-python",
   "name": "python",
   "nbconvert_exporter": "python",
   "pygments_lexer": "ipython2",
   "version": "2.7.6"
  }
 },
 "nbformat": 4,
 "nbformat_minor": 5
}
