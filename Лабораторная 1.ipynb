{
 "cells": [
  {
   "cell_type": "code",
   "id": "8576896b",
   "metadata": {
    "id": "8576896b",
    "ExecuteTime": {
     "end_time": "2024-10-16T06:15:48.932900Z",
     "start_time": "2024-10-16T06:15:48.164197Z"
    }
   },
   "source": [
    "import math\n",
    "import numpy as np\n",
    "from torch import nn\n",
    "from torch.nn import init\n",
    "from torch.nn.modules import loss\n",
    "import torch"
   ],
   "outputs": [],
   "execution_count": 1
  },
  {
   "cell_type": "code",
   "id": "bf40ac3e",
   "metadata": {
    "id": "bf40ac3e",
    "ExecuteTime": {
     "end_time": "2024-10-16T06:15:55.511625Z",
     "start_time": "2024-10-16T06:15:55.233636Z"
    }
   },
   "source": [
    "import matplotlib\n",
    "matplotlib.use('Agg')\n",
    "import matplotlib.pyplot as plt\n",
    "%matplotlib inline"
   ],
   "outputs": [],
   "execution_count": 2
  },
  {
   "cell_type": "markdown",
   "id": "8c770d43",
   "metadata": {
    "id": "8c770d43"
   },
   "source": [
    "## Восставновление матрицы малого ранга (5 баллов)\n",
    "\n",
    "Есть неизвестная матрица X_taget. (В тетрадке она хранится явно, для самопроверки)\n",
    "X_noised - зашумленная матрица, по которой нужно восстановить X_taget.\n",
    "\n",
    "Для решения задачи. Нужно задать две матрицы $H$, $W$ и найти минимум $|| W * H = X_{noisy} ||$ методом градиентного спуска.\n",
    "\n",
    "Явно пропишите градиенты матриц в градиентном спуске, не используя автоматическое дифференцирование.\n",
    "\n",
    "Напишите градиетный спуск и подберите learning rate и количетсво итераций."
   ]
  },
  {
   "cell_type": "code",
   "id": "05e2e849",
   "metadata": {
    "id": "05e2e849",
    "ExecuteTime": {
     "end_time": "2024-10-16T06:15:58.729048Z",
     "start_time": "2024-10-16T06:15:58.726084Z"
    }
   },
   "source": [
    "def get_X():\n",
    "    np.random.seed(12345)\n",
    "    W_ = np.random.randn(73, 6)\n",
    "    H_ = np.random.randn(6, 46)\n",
    "    X_taget = W_.dot(H_)\n",
    "    return torch.tensor(X_taget, dtype=torch.float32), torch.tensor(X_taget + np.random.randn(73, 46) * 0.1, dtype=torch.float32)"
   ],
   "outputs": [],
   "execution_count": 3
  },
  {
   "cell_type": "code",
   "id": "a8a8ba64",
   "metadata": {
    "id": "a8a8ba64",
    "ExecuteTime": {
     "end_time": "2024-10-16T06:16:02.403523Z",
     "start_time": "2024-10-16T06:16:02.400804Z"
    }
   },
   "source": [
    "def dist(X1, X2):\n",
    "    d = (X1 - X2) ** 2\n",
    "    return d.mean()"
   ],
   "outputs": [],
   "execution_count": 4
  },
  {
   "metadata": {
    "id": "b55d9f63",
    "ExecuteTime": {
     "end_time": "2024-10-16T06:16:05.604251Z",
     "start_time": "2024-10-16T06:16:05.541045Z"
    }
   },
   "cell_type": "code",
   "source": "X_taget, X_noisy = get_X()",
   "id": "b55d9f63",
   "outputs": [],
   "execution_count": 5
  },
  {
   "cell_type": "code",
   "id": "6926aa43",
   "metadata": {
    "id": "6926aa43",
    "ExecuteTime": {
     "end_time": "2024-10-16T06:16:08.845914Z",
     "start_time": "2024-10-16T06:16:08.842072Z"
    }
   },
   "source": [
    "W = torch.randn(73, 6, requires_grad=False, dtype=torch.float32)\n",
    "H = torch.randn(6, 46, requires_grad=False, dtype=torch.float32)"
   ],
   "outputs": [],
   "execution_count": 6
  },
  {
   "metadata": {
    "ExecuteTime": {
     "end_time": "2024-10-16T06:16:36.608201Z",
     "start_time": "2024-10-16T06:16:36.605416Z"
    }
   },
   "cell_type": "code",
   "source": [
    "learning_rate = 1e-4\n",
    "num_iterations = 10000"
   ],
   "id": "a8a8bcf7371cfbf0",
   "outputs": [],
   "execution_count": 7
  },
  {
   "metadata": {
    "ExecuteTime": {
     "end_time": "2024-10-16T06:16:38.337576Z",
     "start_time": "2024-10-16T06:16:38.334623Z"
    }
   },
   "cell_type": "code",
   "source": [
    "def gradient_descent(X_noisy, W, H, num_iterations, learning_rate):\n",
    "    X_noisy = X_noisy.float()\n",
    "    losses = []\n",
    "    \n",
    "    for i in range(num_iterations):\n",
    "        X_pred = W.matmul(H)\n",
    "        grad_W = 2 * (X_pred - X_noisy).matmul(H.T)\n",
    "        grad_H = 2 * W.T.matmul(X_pred - X_noisy)\n",
    "        W -= learning_rate * grad_W\n",
    "        H -= learning_rate * grad_H\n",
    "        \n",
    "        # Сохраняем значение ошибки каждые 100 итераций\n",
    "        if i % 100 == 0:\n",
    "            current_loss = dist(X_pred, X_noisy).item()\n",
    "            losses.append(current_loss)\n",
    "            \n",
    "    return losses"
   ],
   "id": "8bca5088a139b8ee",
   "outputs": [],
   "execution_count": 8
  },
  {
   "metadata": {
    "ExecuteTime": {
     "end_time": "2024-10-16T06:16:42.392393Z",
     "start_time": "2024-10-16T06:16:42.162176Z"
    }
   },
   "cell_type": "code",
   "source": "losses = gradient_descent(X_noisy, W, H, num_iterations, learning_rate)",
   "id": "ee1e46708dac3dd0",
   "outputs": [],
   "execution_count": 9
  },
  {
   "metadata": {
    "ExecuteTime": {
     "end_time": "2024-10-16T06:16:45.553227Z",
     "start_time": "2024-10-16T06:16:45.484269Z"
    }
   },
   "cell_type": "code",
   "source": [
    "plt.plot(range(0, num_iterations, 100), losses)\n",
    "plt.xlabel('Iterations')\n",
    "plt.ylabel('Loss')\n",
    "plt.title('Gradient Descent Loss Over Iterations')\n",
    "plt.grid(True)\n",
    "plt.show()"
   ],
   "id": "1686e52049452474",
   "outputs": [
    {
     "data": {
      "text/plain": [
       "<Figure size 640x480 with 1 Axes>"
      ],
      "image/png": "[encoded data removed]"
     },
     "metadata": {},
     "output_type": "display_data"
    }
   ],
   "execution_count": 10
  },
  {
   "cell_type": "code",
   "id": "ed582d20",
   "metadata": {
    "id": "ed582d20",
    "ExecuteTime": {
     "end_time": "2024-10-16T06:17:06.775334Z",
     "start_time": "2024-10-16T06:17:06.771552Z"
    }
   },
   "source": [
    "base_dist = dist(X_noisy, X_taget).item()\n",
    "recoverd_dist = dist(W.matmul(H), X_taget).item()"
   ],
   "outputs": [],
   "execution_count": 12
  },
  {
   "cell_type": "code",
   "id": "e61b2e71",
   "metadata": {
    "id": "e61b2e71",
    "ExecuteTime": {
     "end_time": "2024-10-16T06:17:08.313796Z",
     "start_time": "2024-10-16T06:17:08.310958Z"
    }
   },
   "source": [
    "# Восстановленая матрица должна быть ближе к исходной чем шумная\n",
    "print(f\"Distance to noisy matrix:     {base_dist}\")\n",
    "print(f\"Distance to recovered matrix: {recoverd_dist}\")\n",
    "print(base_dist / recoverd_dist)"
   ],
   "outputs": [
    {
     "name": "stdout",
     "output_type": "stream",
     "text": [
      "Distance to noisy matrix:     0.010014712810516357\n",
      "Distance to recovered matrix: 0.002184840850532055\n",
      "4.583726456816094\n"
     ]
    }
   ],
   "execution_count": 13
  },
  {
   "cell_type": "code",
   "id": "bdda47b9",
   "metadata": {
    "id": "bdda47b9",
    "ExecuteTime": {
     "end_time": "2024-10-16T06:17:11.519958Z",
     "start_time": "2024-10-16T06:17:11.517288Z"
    }
   },
   "source": [
    "assert recoverd_dist < base_dist"
   ],
   "outputs": [],
   "execution_count": 14
  },
  {
   "cell_type": "markdown",
   "id": "f1e1d95e",
   "metadata": {
    "id": "f1e1d95e"
   },
   "source": [
    "## Эластичная веревка (7 баллов)\n",
    "\n",
    "Эластичная веревка свободно провисает между двумя опорами. Нужно смоделировать какую форму примет веревка.\n",
    "\n",
    "Представим веревку как набор одинаковых грузов, соединенных невесомыми пружинами. Нам требуется найти такое положение грузов, в котором суммарная потенциальная энергия будет минимальна.\n",
    "\n",
    "Потенциальная энергия груза зависит от высоты:\n",
    "\n",
    "$$ E^m_i = mgh_i = mgy_i $$\n",
    "\n",
    "Потенциальная энергия пружины зависит от расстояния между соседним грузами $ d_{i, i+1} $\n",
    "\n",
    "$$ E^s_{i,i+1} = k (d_{i, i+1} - d_0) ^ 2 / 2 $$\n",
    "\n",
    "Запишите выражение для энергии и найдите минимум методом градиентного спуска. (Не забудьте, что крайние грузы зафиксированы их положение всегда равно начальному)"
   ]
  },
  {
   "cell_type": "markdown",
   "id": "5a973b88",
   "metadata": {
    "id": "5a973b88"
   },
   "source": [
    "Ниже заданы все необходимые константы:\n",
    "* `g` - ускорение свободного падения $g$\n",
    "* `x_start`, `y_start` - начальные координаты грузов\n",
    "* `start_dist` - длина пружины с свобдном состоянии $d_0$\n",
    "* `k` - коэффициент упругости пружины $k$\n",
    "* `mass` - масса груза $m$"
   ]
  },
  {
   "cell_type": "markdown",
   "source": [
    "Формулами пропишите вычисление градиента, не используйте авт"
   ],
   "metadata": {
    "id": "JD6DFQ9WsvZn"
   },
   "id": "JD6DFQ9WsvZn"
  },
  {
   "cell_type": "code",
   "id": "d6d60424",
   "metadata": {
    "id": "d6d60424",
    "ExecuteTime": {
     "end_time": "2024-10-16T06:17:18.243971Z",
     "start_time": "2024-10-16T06:17:18.240535Z"
    }
   },
   "source": [
    "joints_number = 40\n",
    "\n",
    "g = 9.81 # м/с2\n",
    "\n",
    "x_start = np.linspace(0, 1, num=joints_number + 1)\n",
    "y_start = np.zeros(joints_number + 1)\n",
    "\n",
    "start_dist = 1 / joints_number # м\n",
    "\n",
    "k = 1 * joints_number # Н/м\n",
    "\n",
    "mass = 0.01 / (joints_number + 1) # кг"
   ],
   "outputs": [],
   "execution_count": 15
  },
  {
   "cell_type": "code",
   "id": "e33c56a0",
   "metadata": {
    "id": "e33c56a0",
    "outputId": "c4d52b60-45f8-495c-cd23-e926ad09adad",
    "ExecuteTime": {
     "end_time": "2024-10-16T06:17:21.255418Z",
     "start_time": "2024-10-16T06:17:21.230135Z"
    }
   },
   "source": [
    "plt.axis(\"off\")\n",
    "plt.plot(x_start, y_start, marker='o')\n",
    "plt.show()"
   ],
   "outputs": [
    {
     "data": {
      "text/plain": [
       "<Figure size 640x480 with 1 Axes>"
      ],
      "image/png": "[encoded data removed]"
     },
     "metadata": {},
     "output_type": "display_data"
    }
   ],
   "execution_count": 16
  },
  {
   "cell_type": "code",
   "id": "7064ba7a",
   "metadata": {
    "id": "7064ba7a",
    "ExecuteTime": {
     "end_time": "2024-10-16T06:18:35.402943Z",
     "start_time": "2024-10-16T06:18:35.399960Z"
    }
   },
   "source": [
    "x = torch.tensor(x_start, requires_grad=True, dtype=torch.float32)\n",
    "y = torch.tensor(y_start, requires_grad=True, dtype=torch.float32)"
   ],
   "outputs": [],
   "execution_count": 17
  },
  {
   "cell_type": "code",
   "id": "027f20d7",
   "metadata": {
    "id": "027f20d7",
    "ExecuteTime": {
     "end_time": "2024-10-16T06:18:37.452064Z",
     "start_time": "2024-10-16T06:18:37.449681Z"
    }
   },
   "source": [
    "def E_mass(x, y):\n",
    "    return mass * g * torch.sum(y)"
   ],
   "outputs": [],
   "execution_count": 18
  },
  {
   "cell_type": "code",
   "id": "ee5a959a",
   "metadata": {
    "id": "ee5a959a",
    "ExecuteTime": {
     "end_time": "2024-10-16T06:18:41.932074Z",
     "start_time": "2024-10-16T06:18:41.928493Z"
    }
   },
   "source": [
    "def E_springs(x, y):\n",
    "    total_energy = 0.0\n",
    "    for i in range(joints_number):\n",
    "        dx = x[i+1] - x[i]\n",
    "        dy = y[i+1] - y[i]\n",
    "        length = torch.sqrt(dx**2 + dy**2)\n",
    "        total_energy += 0.5 * k * (length - start_dist)**2\n",
    "    return total_energy"
   ],
   "outputs": [],
   "execution_count": 19
  },
  {
   "cell_type": "code",
   "id": "54f7635f",
   "metadata": {
    "id": "54f7635f",
    "ExecuteTime": {
     "end_time": "2024-10-16T06:18:45.477909Z",
     "start_time": "2024-10-16T06:18:45.475270Z"
    }
   },
   "source": [
    "def E(x, y):\n",
    "    return E_mass(x, y) + E_springs(x, y)"
   ],
   "outputs": [],
   "execution_count": 20
  },
  {
   "cell_type": "code",
   "id": "0c442e25",
   "metadata": {
    "id": "0c442e25",
    "outputId": "c5920546-e1d5-46dd-a18a-1b455d757bfd",
    "ExecuteTime": {
     "end_time": "2024-10-16T06:18:46.993188Z",
     "start_time": "2024-10-16T06:18:46.984066Z"
    }
   },
   "source": [
    "E(x, y)"
   ],
   "outputs": [
    {
     "data": {
      "text/plain": [
       "tensor(3.7512e-13, grad_fn=<AddBackward0>)"
      ]
     },
     "execution_count": 21,
     "metadata": {},
     "output_type": "execute_result"
    }
   ],
   "execution_count": 21
  },
  {
   "cell_type": "code",
   "id": "9e9a1e80",
   "metadata": {
    "id": "9e9a1e80",
    "ExecuteTime": {
     "end_time": "2024-10-16T06:35:22.123125Z",
     "start_time": "2024-10-16T06:35:22.120301Z"
    }
   },
   "source": [
    "x = torch.tensor(x_start, requires_grad=True, dtype=torch.float32)\n",
    "y = torch.tensor(y_start, requires_grad=True, dtype=torch.float32)"
   ],
   "outputs": [],
   "execution_count": 60
  },
  {
   "metadata": {
    "ExecuteTime": {
     "end_time": "2024-10-16T06:35:23.198839Z",
     "start_time": "2024-10-16T06:35:23.196327Z"
    }
   },
   "cell_type": "code",
   "source": [
    "learning_rate = 1e-2\n",
    "num_iterations = 10000"
   ],
   "id": "b23b2c4bc5a10467",
   "outputs": [],
   "execution_count": 61
  },
  {
   "metadata": {
    "ExecuteTime": {
     "end_time": "2024-10-16T06:35:24.919913Z",
     "start_time": "2024-10-16T06:35:24.915396Z"
    }
   },
   "cell_type": "code",
   "source": [
    "def sgd(x, y, num_iterations, learning_rate):\n",
    "    for i in range(num_iterations):\n",
    "        if x.grad is not None:\n",
    "            x.grad.zero_()\n",
    "        if y.grad is not None:\n",
    "            y.grad.zero_()\n",
    "\n",
    "        energy = E(x, y)\n",
    "        energy.backward()\n",
    "\n",
    "        with torch.no_grad():\n",
    "            x[1:-1] -= learning_rate * x.grad[1:-1]\n",
    "            y[1:-1] -= learning_rate * y.grad[1:-1]\n",
    "\n",
    "        if i % 1000 == 0:\n",
    "            print(f\"Iteration {i}: Energy = {energy.item()}\")\n",
    "        if energy.item() < -0.007:\n",
    "            break\n",
    "\n",
    "    return x, y"
   ],
   "id": "4e01939b7fb7f402",
   "outputs": [],
   "execution_count": 63
  },
  {
   "metadata": {
    "ExecuteTime": {
     "end_time": "2024-10-16T06:35:34.464857Z",
     "start_time": "2024-10-16T06:35:26.405861Z"
    }
   },
   "cell_type": "code",
   "source": "x_new, y_new = sgd(x, y, num_iterations, learning_rate)",
   "id": "be4631735917a73b",
   "outputs": [
    {
     "name": "stdout",
     "output_type": "stream",
     "text": [
      "Iteration 0: Energy = 3.7511660444522477e-13\n",
      "Iteration 1000: Energy = -0.002097569638863206\n",
      "Iteration 2000: Energy = -0.003849529894068837\n",
      "Iteration 3000: Energy = -0.00525496993213892\n",
      "Iteration 4000: Energy = -0.00631954800337553\n"
     ]
    }
   ],
   "execution_count": 64
  },
  {
   "cell_type": "code",
   "execution_count": null,
   "id": "381cfca1",
   "metadata": {
    "id": "381cfca1"
   },
   "outputs": [],
   "source": [
    "# Получите суммарную энергию меньше -0.007"
   ]
  },
  {
   "cell_type": "code",
   "id": "1b6f1849",
   "metadata": {
    "id": "1b6f1849",
    "outputId": "4350c0ed-ccae-4c4d-91de-76c8c224e9d7",
    "ExecuteTime": {
     "end_time": "2024-10-16T06:36:04.967506Z",
     "start_time": "2024-10-16T06:36:04.915065Z"
    }
   },
   "source": [
    "plt.plot(x_new.detach().numpy(), y_new.detach().numpy(), marker='o')\n",
    "plt.show()"
   ],
   "outputs": [
    {
     "data": {
      "text/plain": [
       "<Figure size 640x480 with 1 Axes>"
      ],
      "image/png": "[encoded data removed]"
     },
     "metadata": {},
     "output_type": "display_data"
    }
   ],
   "execution_count": 65
  },
  {
   "cell_type": "code",
   "execution_count": null,
   "id": "225fe444",
   "metadata": {
    "id": "225fe444"
   },
   "outputs": [],
   "source": []
  }
 ],
 "metadata": {
  "kernelspec": {
   "display_name": "Python 3 (ipykernel)",
   "language": "python",
   "name": "python3"
  },
  "language_info": {
   "codemirror_mode": {
    "name": "ipython",
    "version": 3
   },
   "file_extension": ".py",
   "mimetype": "text/x-python",
   "name": "python",
   "nbconvert_exporter": "python",
   "pygments_lexer": "ipython3",
   "version": "3.7.3"
  },
  "colab": {
   "provenance": []
  }
 },
 "nbformat": 4,
 "nbformat_minor": 5
}
