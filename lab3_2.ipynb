{
 "cells": [
  {
   "cell_type": "markdown",
   "metadata": {},
   "source": [
    "В задании вам понадобится собрать генеративную модлель для языка\n",
    "\n",
    "---\n",
    "\n",
    "# LSTM (7 баллов)\n",
    "\n",
    "В данной части нужно реализовать модель с ипользованием LSTM"
   ]
  },
  {
   "cell_type": "code",
   "execution_count": 1,
   "metadata": {},
   "outputs": [
    {
     "name": "stdout",
     "output_type": "stream",
     "text": [
      "Note: you may need to restart the kernel to use updated packages.\n"
     ]
    }
   ],
   "source": [
    "%pip install --quiet sentencepiece datasets transformers"
   ]
  },
  {
   "cell_type": "code",
   "execution_count": 2,
   "metadata": {},
   "outputs": [
    {
     "name": "stderr",
     "output_type": "stream",
     "text": [
      "/home/super-pc2/Документы/test/.venv/lib/python3.12/site-packages/tqdm/auto.py:21: TqdmWarning: IProgress not found. Please update jupyter and ipywidgets. See https://ipywidgets.readthedocs.io/en/stable/user_install.html\n",
      "  from .autonotebook import tqdm as notebook_tqdm\n"
     ]
    }
   ],
   "source": [
    "import torch\n",
    "from torch.utils.data import DataLoader\n",
    "from dataset_maker import DatasetMaker, collate_batch\n",
    "from data_generator import DataGenerator"
   ]
  },
  {
   "cell_type": "markdown",
   "metadata": {},
   "source": [
    "Ниже вам нужно реализовать модель, которая по началу последовательности предсказывает следующий токен.\n",
    "*   Модель получает на вход последовательность токенов, прогоняет её через LSTM и выдает вероятности следующего токена.  \n",
    "*   Используйте LSTM из pytorch\n",
    "*   Не забудьте про `batch_first`"
   ]
  },
  {
   "cell_type": "code",
   "execution_count": 3,
   "metadata": {},
   "outputs": [
    {
     "data": {
      "text/plain": [
       "device(type='cuda')"
      ]
     },
     "execution_count": 3,
     "metadata": {},
     "output_type": "execute_result"
    }
   ],
   "source": [
    "device = torch.device('cuda' if torch.cuda.is_available() else 'cpu')\n",
    "device"
   ]
  },
  {
   "cell_type": "code",
   "execution_count": 4,
   "metadata": {},
   "outputs": [],
   "source": [
    "DIRECTORY = './data/books_txt'  \n",
    "VOCAB_PATH = './data/vocab.txt'\n",
    "MAX_SEQ_LEN = 256\n",
    "BATCH_SIZE = 16\n",
    "OFFSET = MAX_SEQ_LEN // 2\n",
    "TEST_SIZE = 0.03"
   ]
  },
  {
   "cell_type": "code",
   "execution_count": 5,
   "metadata": {},
   "outputs": [],
   "source": [
    "dataset_maker = DatasetMaker(directory=DIRECTORY, test_size=TEST_SIZE, vocab_path=VOCAB_PATH, max_seq_len=MAX_SEQ_LEN, batch_size=BATCH_SIZE, offset=OFFSET, create_test_segments=True)\n",
    "train_dataloader = DataLoader(dataset_maker, batch_size=BATCH_SIZE, shuffle=True, collate_fn=collate_batch)\n",
    "test_dataloader = DataLoader(dataset_maker.segments_test, batch_size=BATCH_SIZE, shuffle=False, collate_fn=collate_batch)"
   ]
  },
  {
   "cell_type": "code",
   "execution_count": 6,
   "metadata": {},
   "outputs": [],
   "source": [
    "LEARNING_RATE = 0.0005\n",
    "EMBEDDING_DIM = 512\n",
    "NUM_LAYERS = 2\n",
    "PAD_TOKEN_IDX = 0\n",
    "SAVE_PATH = './saved_models'"
   ]
  },
  {
   "cell_type": "code",
   "execution_count": 7,
   "metadata": {},
   "outputs": [],
   "source": [
    "model = DataGenerator(vocab_size=dataset_maker.tokenizer.vocab_size, test_dataloader=test_dataloader, embed_dim=EMBEDDING_DIM, num_layers=NUM_LAYERS, pad_token_idx=PAD_TOKEN_IDX, device=device)"
   ]
  },
  {
   "cell_type": "markdown",
   "metadata": {},
   "source": [
    "### Реализуйте обучение модели:\n",
    "*  Не забудьте сдвинуть src и trg относительно друг друга.\n",
    "*  Не забудьте про `clip_grad_norm_`\n",
    "*  Данных очень много, для отладки лучше проходить только часть данных иначе этоха будет очень длинной\n",
    "\n",
    "Получите `loss < 5.0` на тестовой выборке. \n",
    "\n",
    "Если модель обучается слишком быстро до значений <1.0 вы что-то напутали с данными."
   ]
  },
  {
   "cell_type": "code",
   "execution_count": 9,
   "metadata": {},
   "outputs": [
    {
     "name": "stdout",
     "output_type": "stream",
     "text": [
      "Epoch 1/100\n"
     ]
    },
    {
     "name": "stderr",
     "output_type": "stream",
     "text": [
      "100%|██████████| 17049/17049 [07:59<00:00, 35.56it/s]\n",
      "100%|██████████| 17049/17049 [03:43<00:00, 76.42it/s]\n"
     ]
    },
    {
     "name": "stdout",
     "output_type": "stream",
     "text": [
      "Train Loss: 4.68597, Eval Loss: 4.17346\n",
      "Epoch 2/100\n"
     ]
    },
    {
     "name": "stderr",
     "output_type": "stream",
     "text": [
      "100%|██████████| 17049/17049 [08:16<00:00, 34.35it/s]\n",
      "100%|██████████| 17049/17049 [03:38<00:00, 77.86it/s]\n"
     ]
    },
    {
     "name": "stdout",
     "output_type": "stream",
     "text": [
      "Train Loss: 4.06904, Eval Loss: 3.95532\n",
      "Epoch 3/100\n"
     ]
    },
    {
     "name": "stderr",
     "output_type": "stream",
     "text": [
      "100%|██████████| 17049/17049 [08:13<00:00, 34.58it/s]\n",
      "100%|██████████| 17049/17049 [03:37<00:00, 78.28it/s]\n"
     ]
    },
    {
     "name": "stdout",
     "output_type": "stream",
     "text": [
      "Train Loss: 3.91569, Eval Loss: 3.84085\n",
      "Epoch 4/100\n"
     ]
    },
    {
     "name": "stderr",
     "output_type": "stream",
     "text": [
      "100%|██████████| 17049/17049 [08:07<00:00, 34.95it/s]\n",
      "100%|██████████| 17049/17049 [03:37<00:00, 78.34it/s]\n"
     ]
    },
    {
     "name": "stdout",
     "output_type": "stream",
     "text": [
      "Train Loss: 3.82625, Eval Loss: 3.76896\n",
      "Epoch 5/100\n"
     ]
    },
    {
     "name": "stderr",
     "output_type": "stream",
     "text": [
      "100%|██████████| 17049/17049 [07:48<00:00, 36.41it/s]\n",
      "100%|██████████| 17049/17049 [03:37<00:00, 78.34it/s]\n"
     ]
    },
    {
     "name": "stdout",
     "output_type": "stream",
     "text": [
      "Train Loss: 3.76422, Eval Loss: 3.71616\n",
      "Epoch 6/100\n"
     ]
    },
    {
     "name": "stderr",
     "output_type": "stream",
     "text": [
      "100%|██████████| 17049/17049 [07:48<00:00, 36.40it/s]\n",
      "100%|██████████| 17049/17049 [03:37<00:00, 78.36it/s]\n"
     ]
    },
    {
     "name": "stdout",
     "output_type": "stream",
     "text": [
      "Train Loss: 3.71708, Eval Loss: 3.67066\n",
      "Epoch 7/100\n"
     ]
    },
    {
     "name": "stderr",
     "output_type": "stream",
     "text": [
      "100%|██████████| 17049/17049 [07:48<00:00, 36.40it/s]\n",
      "100%|██████████| 17049/17049 [03:37<00:00, 78.32it/s]\n"
     ]
    },
    {
     "name": "stdout",
     "output_type": "stream",
     "text": [
      "Train Loss: 3.67955, Eval Loss: 3.63677\n",
      "Epoch 8/100\n"
     ]
    },
    {
     "name": "stderr",
     "output_type": "stream",
     "text": [
      "100%|██████████| 17049/17049 [07:48<00:00, 36.40it/s]\n",
      "100%|██████████| 17049/17049 [03:37<00:00, 78.37it/s]\n"
     ]
    },
    {
     "name": "stdout",
     "output_type": "stream",
     "text": [
      "Train Loss: 3.64854, Eval Loss: 3.60563\n",
      "Epoch 9/100\n"
     ]
    },
    {
     "name": "stderr",
     "output_type": "stream",
     "text": [
      "100%|██████████| 17049/17049 [07:48<00:00, 36.40it/s]\n",
      "100%|██████████| 17049/17049 [03:37<00:00, 78.32it/s]\n"
     ]
    },
    {
     "name": "stdout",
     "output_type": "stream",
     "text": [
      "Train Loss: 3.62232, Eval Loss: 3.58176\n",
      "Epoch 10/100\n"
     ]
    },
    {
     "name": "stderr",
     "output_type": "stream",
     "text": [
      "100%|██████████| 17049/17049 [07:48<00:00, 36.40it/s]\n",
      "100%|██████████| 17049/17049 [03:37<00:00, 78.38it/s]\n"
     ]
    },
    {
     "name": "stdout",
     "output_type": "stream",
     "text": [
      "Train Loss: 3.59962, Eval Loss: 3.55602\n",
      "Model saved to ./saved_models/model_epoch_10.pth at epoch 10\n",
      "Loss plot saved to ./saved_models/loss_plot_epoch_10.png\n",
      "Epoch 11/100\n"
     ]
    },
    {
     "name": "stderr",
     "output_type": "stream",
     "text": [
      "100%|██████████| 17049/17049 [07:48<00:00, 36.40it/s]\n",
      "100%|██████████| 17049/17049 [03:37<00:00, 78.33it/s]\n"
     ]
    },
    {
     "name": "stdout",
     "output_type": "stream",
     "text": [
      "Train Loss: 3.57994, Eval Loss: 3.53983\n",
      "Epoch 12/100\n"
     ]
    },
    {
     "name": "stderr",
     "output_type": "stream",
     "text": [
      "100%|██████████| 17049/17049 [07:48<00:00, 36.40it/s]\n",
      "100%|██████████| 17049/17049 [03:37<00:00, 78.40it/s]\n"
     ]
    },
    {
     "name": "stdout",
     "output_type": "stream",
     "text": [
      "Train Loss: 3.56247, Eval Loss: 3.52733\n",
      "Epoch 13/100\n"
     ]
    },
    {
     "name": "stderr",
     "output_type": "stream",
     "text": [
      "100%|██████████| 17049/17049 [07:48<00:00, 36.40it/s]\n",
      "100%|██████████| 17049/17049 [03:37<00:00, 78.36it/s]\n"
     ]
    },
    {
     "name": "stdout",
     "output_type": "stream",
     "text": [
      "Train Loss: 3.54682, Eval Loss: 3.51012\n",
      "Epoch 14/100\n"
     ]
    },
    {
     "name": "stderr",
     "output_type": "stream",
     "text": [
      "100%|██████████| 17049/17049 [07:48<00:00, 36.40it/s]\n",
      "100%|██████████| 17049/17049 [03:37<00:00, 78.36it/s]\n"
     ]
    },
    {
     "name": "stdout",
     "output_type": "stream",
     "text": [
      "Train Loss: 3.53268, Eval Loss: 3.49585\n",
      "Epoch 15/100\n"
     ]
    },
    {
     "name": "stderr",
     "output_type": "stream",
     "text": [
      "100%|██████████| 17049/17049 [07:48<00:00, 36.41it/s]\n",
      "100%|██████████| 17049/17049 [03:37<00:00, 78.34it/s]\n"
     ]
    },
    {
     "name": "stdout",
     "output_type": "stream",
     "text": [
      "Train Loss: 3.52004, Eval Loss: 3.48440\n",
      "Epoch 16/100\n"
     ]
    },
    {
     "name": "stderr",
     "output_type": "stream",
     "text": [
      "100%|██████████| 17049/17049 [07:48<00:00, 36.40it/s]\n",
      "100%|██████████| 17049/17049 [03:37<00:00, 78.33it/s]\n"
     ]
    },
    {
     "name": "stdout",
     "output_type": "stream",
     "text": [
      "Train Loss: 3.50841, Eval Loss: 3.47085\n",
      "Epoch 17/100\n"
     ]
    },
    {
     "name": "stderr",
     "output_type": "stream",
     "text": [
      "100%|██████████| 17049/17049 [07:48<00:00, 36.40it/s]\n",
      "100%|██████████| 17049/17049 [03:37<00:00, 78.41it/s]\n"
     ]
    },
    {
     "name": "stdout",
     "output_type": "stream",
     "text": [
      "Train Loss: 3.49781, Eval Loss: 3.46181\n",
      "Epoch 18/100\n"
     ]
    },
    {
     "name": "stderr",
     "output_type": "stream",
     "text": [
      "100%|██████████| 17049/17049 [07:48<00:00, 36.40it/s]\n",
      "100%|██████████| 17049/17049 [03:37<00:00, 78.38it/s]\n"
     ]
    },
    {
     "name": "stdout",
     "output_type": "stream",
     "text": [
      "Train Loss: 3.48800, Eval Loss: 3.44899\n",
      "Epoch 19/100\n"
     ]
    },
    {
     "name": "stderr",
     "output_type": "stream",
     "text": [
      "100%|██████████| 17049/17049 [07:48<00:00, 36.40it/s]\n",
      "100%|██████████| 17049/17049 [03:37<00:00, 78.37it/s]\n"
     ]
    },
    {
     "name": "stdout",
     "output_type": "stream",
     "text": [
      "Train Loss: 3.47916, Eval Loss: 3.43993\n",
      "Epoch 20/100\n"
     ]
    },
    {
     "name": "stderr",
     "output_type": "stream",
     "text": [
      "100%|██████████| 17049/17049 [07:48<00:00, 36.40it/s]\n",
      "100%|██████████| 17049/17049 [03:37<00:00, 78.36it/s]\n"
     ]
    },
    {
     "name": "stdout",
     "output_type": "stream",
     "text": [
      "Train Loss: 3.47090, Eval Loss: 3.43237\n",
      "Model saved to ./saved_models/model_epoch_20.pth at epoch 20\n",
      "Loss plot saved to ./saved_models/loss_plot_epoch_20.png\n",
      "Epoch 21/100\n"
     ]
    },
    {
     "name": "stderr",
     "output_type": "stream",
     "text": [
      "100%|██████████| 17049/17049 [07:48<00:00, 36.40it/s]\n",
      "100%|██████████| 17049/17049 [03:37<00:00, 78.35it/s]\n"
     ]
    },
    {
     "name": "stdout",
     "output_type": "stream",
     "text": [
      "Train Loss: 3.46308, Eval Loss: 3.42754\n",
      "Epoch 22/100\n"
     ]
    },
    {
     "name": "stderr",
     "output_type": "stream",
     "text": [
      "100%|██████████| 17049/17049 [07:48<00:00, 36.40it/s]\n",
      "100%|██████████| 17049/17049 [03:37<00:00, 78.35it/s]\n"
     ]
    },
    {
     "name": "stdout",
     "output_type": "stream",
     "text": [
      "Train Loss: 3.45590, Eval Loss: 3.42054\n",
      "Epoch 23/100\n"
     ]
    },
    {
     "name": "stderr",
     "output_type": "stream",
     "text": [
      "100%|██████████| 17049/17049 [07:48<00:00, 36.41it/s]\n",
      "100%|██████████| 17049/17049 [03:37<00:00, 78.39it/s]\n"
     ]
    },
    {
     "name": "stdout",
     "output_type": "stream",
     "text": [
      "Train Loss: 3.44927, Eval Loss: 3.41321\n",
      "Epoch 24/100\n"
     ]
    },
    {
     "name": "stderr",
     "output_type": "stream",
     "text": [
      "100%|██████████| 17049/17049 [07:48<00:00, 36.40it/s]\n",
      "100%|██████████| 17049/17049 [03:37<00:00, 78.37it/s]\n"
     ]
    },
    {
     "name": "stdout",
     "output_type": "stream",
     "text": [
      "Train Loss: 3.44297, Eval Loss: 3.40413\n",
      "Epoch 25/100\n"
     ]
    },
    {
     "name": "stderr",
     "output_type": "stream",
     "text": [
      "100%|██████████| 17049/17049 [07:48<00:00, 36.40it/s]\n",
      "100%|██████████| 17049/17049 [03:37<00:00, 78.37it/s]\n"
     ]
    },
    {
     "name": "stdout",
     "output_type": "stream",
     "text": [
      "Train Loss: 3.43709, Eval Loss: 3.39935\n",
      "Epoch 26/100\n"
     ]
    },
    {
     "name": "stderr",
     "output_type": "stream",
     "text": [
      "100%|██████████| 17049/17049 [07:48<00:00, 36.41it/s]\n",
      "100%|██████████| 17049/17049 [03:37<00:00, 78.36it/s]\n"
     ]
    },
    {
     "name": "stdout",
     "output_type": "stream",
     "text": [
      "Train Loss: 3.43150, Eval Loss: 3.39425\n",
      "Epoch 27/100\n"
     ]
    },
    {
     "name": "stderr",
     "output_type": "stream",
     "text": [
      "100%|██████████| 17049/17049 [07:48<00:00, 36.40it/s]\n",
      "100%|██████████| 17049/17049 [03:37<00:00, 78.36it/s]\n"
     ]
    },
    {
     "name": "stdout",
     "output_type": "stream",
     "text": [
      "Train Loss: 3.42617, Eval Loss: 3.38818\n",
      "Epoch 28/100\n"
     ]
    },
    {
     "name": "stderr",
     "output_type": "stream",
     "text": [
      "100%|██████████| 17049/17049 [07:48<00:00, 36.40it/s]\n",
      "100%|██████████| 17049/17049 [03:37<00:00, 78.37it/s]\n"
     ]
    },
    {
     "name": "stdout",
     "output_type": "stream",
     "text": [
      "Train Loss: 3.42123, Eval Loss: 3.38541\n",
      "Epoch 29/100\n"
     ]
    },
    {
     "name": "stderr",
     "output_type": "stream",
     "text": [
      "100%|██████████| 17049/17049 [07:48<00:00, 36.40it/s]\n",
      "100%|██████████| 17049/17049 [03:37<00:00, 78.36it/s]\n"
     ]
    },
    {
     "name": "stdout",
     "output_type": "stream",
     "text": [
      "Train Loss: 3.41655, Eval Loss: 3.37937\n",
      "Epoch 30/100\n"
     ]
    },
    {
     "name": "stderr",
     "output_type": "stream",
     "text": [
      "100%|██████████| 17049/17049 [07:48<00:00, 36.40it/s]\n",
      "100%|██████████| 17049/17049 [03:37<00:00, 78.32it/s]\n"
     ]
    },
    {
     "name": "stdout",
     "output_type": "stream",
     "text": [
      "Train Loss: 3.41214, Eval Loss: 3.37142\n",
      "Model saved to ./saved_models/model_epoch_30.pth at epoch 30\n",
      "Loss plot saved to ./saved_models/loss_plot_epoch_30.png\n",
      "Epoch 31/100\n"
     ]
    },
    {
     "name": "stderr",
     "output_type": "stream",
     "text": [
      "100%|██████████| 17049/17049 [07:48<00:00, 36.40it/s]\n",
      "100%|██████████| 17049/17049 [03:37<00:00, 78.39it/s]\n"
     ]
    },
    {
     "name": "stdout",
     "output_type": "stream",
     "text": [
      "Train Loss: 3.40767, Eval Loss: 3.37100\n",
      "Epoch 32/100\n"
     ]
    },
    {
     "name": "stderr",
     "output_type": "stream",
     "text": [
      "100%|██████████| 17049/17049 [07:48<00:00, 36.40it/s]\n",
      "100%|██████████| 17049/17049 [03:37<00:00, 78.33it/s]\n"
     ]
    },
    {
     "name": "stdout",
     "output_type": "stream",
     "text": [
      "Train Loss: 3.40357, Eval Loss: 3.36345\n",
      "Epoch 33/100\n"
     ]
    },
    {
     "name": "stderr",
     "output_type": "stream",
     "text": [
      "100%|██████████| 17049/17049 [07:48<00:00, 36.40it/s]\n",
      "100%|██████████| 17049/17049 [03:37<00:00, 78.38it/s]\n"
     ]
    },
    {
     "name": "stdout",
     "output_type": "stream",
     "text": [
      "Train Loss: 3.39970, Eval Loss: 3.36078\n",
      "Epoch 34/100\n"
     ]
    },
    {
     "name": "stderr",
     "output_type": "stream",
     "text": [
      "100%|██████████| 17049/17049 [07:48<00:00, 36.40it/s]\n",
      "100%|██████████| 17049/17049 [03:37<00:00, 78.33it/s]\n"
     ]
    },
    {
     "name": "stdout",
     "output_type": "stream",
     "text": [
      "Train Loss: 3.39594, Eval Loss: 3.35989\n",
      "Epoch 35/100\n"
     ]
    },
    {
     "name": "stderr",
     "output_type": "stream",
     "text": [
      "100%|██████████| 17049/17049 [07:48<00:00, 36.40it/s]\n",
      "100%|██████████| 17049/17049 [03:37<00:00, 78.42it/s]\n"
     ]
    },
    {
     "name": "stdout",
     "output_type": "stream",
     "text": [
      "Train Loss: 3.39242, Eval Loss: 3.35365\n",
      "Epoch 36/100\n"
     ]
    },
    {
     "name": "stderr",
     "output_type": "stream",
     "text": [
      "100%|██████████| 17049/17049 [07:48<00:00, 36.40it/s]\n",
      "100%|██████████| 17049/17049 [03:37<00:00, 78.33it/s]\n"
     ]
    },
    {
     "name": "stdout",
     "output_type": "stream",
     "text": [
      "Train Loss: 3.38884, Eval Loss: 3.35048\n",
      "Epoch 37/100\n"
     ]
    },
    {
     "name": "stderr",
     "output_type": "stream",
     "text": [
      "100%|██████████| 17049/17049 [07:48<00:00, 36.40it/s]\n",
      "100%|██████████| 17049/17049 [03:37<00:00, 78.38it/s]\n"
     ]
    },
    {
     "name": "stdout",
     "output_type": "stream",
     "text": [
      "Train Loss: 3.38558, Eval Loss: 3.34407\n",
      "Epoch 38/100\n"
     ]
    },
    {
     "name": "stderr",
     "output_type": "stream",
     "text": [
      "100%|██████████| 17049/17049 [07:48<00:00, 36.41it/s]\n",
      "100%|██████████| 17049/17049 [03:37<00:00, 78.38it/s]\n"
     ]
    },
    {
     "name": "stdout",
     "output_type": "stream",
     "text": [
      "Train Loss: 3.38253, Eval Loss: 3.34102\n",
      "Epoch 39/100\n"
     ]
    },
    {
     "name": "stderr",
     "output_type": "stream",
     "text": [
      "100%|██████████| 17049/17049 [07:48<00:00, 36.40it/s]\n",
      "100%|██████████| 17049/17049 [03:37<00:00, 78.40it/s]\n"
     ]
    },
    {
     "name": "stdout",
     "output_type": "stream",
     "text": [
      "Train Loss: 3.37944, Eval Loss: 3.34096\n",
      "Epoch 40/100\n"
     ]
    },
    {
     "name": "stderr",
     "output_type": "stream",
     "text": [
      "100%|██████████| 17049/17049 [07:48<00:00, 36.40it/s]\n",
      "100%|██████████| 17049/17049 [03:37<00:00, 78.38it/s]\n"
     ]
    },
    {
     "name": "stdout",
     "output_type": "stream",
     "text": [
      "Train Loss: 3.37642, Eval Loss: 3.33695\n",
      "Model saved to ./saved_models/model_epoch_40.pth at epoch 40\n",
      "Loss plot saved to ./saved_models/loss_plot_epoch_40.png\n",
      "Epoch 41/100\n"
     ]
    },
    {
     "name": "stderr",
     "output_type": "stream",
     "text": [
      "100%|██████████| 17049/17049 [07:48<00:00, 36.40it/s]\n",
      "100%|██████████| 17049/17049 [03:37<00:00, 78.34it/s]\n"
     ]
    },
    {
     "name": "stdout",
     "output_type": "stream",
     "text": [
      "Train Loss: 3.37358, Eval Loss: 3.33709\n",
      "Epoch 42/100\n"
     ]
    },
    {
     "name": "stderr",
     "output_type": "stream",
     "text": [
      "100%|██████████| 17049/17049 [07:48<00:00, 36.40it/s]\n",
      "100%|██████████| 17049/17049 [03:37<00:00, 78.40it/s]\n"
     ]
    },
    {
     "name": "stdout",
     "output_type": "stream",
     "text": [
      "Train Loss: 3.37083, Eval Loss: 3.33165\n",
      "Epoch 43/100\n"
     ]
    },
    {
     "name": "stderr",
     "output_type": "stream",
     "text": [
      "100%|██████████| 17049/17049 [07:48<00:00, 36.41it/s]\n",
      "100%|██████████| 17049/17049 [03:37<00:00, 78.39it/s]\n"
     ]
    },
    {
     "name": "stdout",
     "output_type": "stream",
     "text": [
      "Train Loss: 3.36822, Eval Loss: 3.32693\n",
      "Epoch 44/100\n"
     ]
    },
    {
     "name": "stderr",
     "output_type": "stream",
     "text": [
      "100%|██████████| 17049/17049 [07:48<00:00, 36.40it/s]\n",
      "100%|██████████| 17049/17049 [03:37<00:00, 78.39it/s]\n"
     ]
    },
    {
     "name": "stdout",
     "output_type": "stream",
     "text": [
      "Train Loss: 3.36565, Eval Loss: 3.32586\n",
      "Epoch 45/100\n"
     ]
    },
    {
     "name": "stderr",
     "output_type": "stream",
     "text": [
      "100%|██████████| 17049/17049 [07:48<00:00, 36.40it/s]\n",
      "100%|██████████| 17049/17049 [03:37<00:00, 78.39it/s]\n"
     ]
    },
    {
     "name": "stdout",
     "output_type": "stream",
     "text": [
      "Train Loss: 3.36328, Eval Loss: 3.32861\n",
      "Epoch 46/100\n"
     ]
    },
    {
     "name": "stderr",
     "output_type": "stream",
     "text": [
      "100%|██████████| 17049/17049 [07:48<00:00, 36.41it/s]\n",
      "100%|██████████| 17049/17049 [03:37<00:00, 78.41it/s]\n"
     ]
    },
    {
     "name": "stdout",
     "output_type": "stream",
     "text": [
      "Train Loss: 3.36077, Eval Loss: 3.32084\n",
      "Epoch 47/100\n"
     ]
    },
    {
     "name": "stderr",
     "output_type": "stream",
     "text": [
      "100%|██████████| 17049/17049 [07:48<00:00, 36.40it/s]\n",
      "100%|██████████| 17049/17049 [03:38<00:00, 78.11it/s]\n"
     ]
    },
    {
     "name": "stdout",
     "output_type": "stream",
     "text": [
      "Train Loss: 3.35851, Eval Loss: 3.31844\n",
      "Epoch 48/100\n"
     ]
    },
    {
     "name": "stderr",
     "output_type": "stream",
     "text": [
      "100%|██████████| 17049/17049 [08:11<00:00, 34.67it/s]\n",
      "100%|██████████| 17049/17049 [03:39<00:00, 77.83it/s]\n"
     ]
    },
    {
     "name": "stdout",
     "output_type": "stream",
     "text": [
      "Train Loss: 3.35641, Eval Loss: 3.31781\n",
      "Epoch 49/100\n"
     ]
    },
    {
     "name": "stderr",
     "output_type": "stream",
     "text": [
      "100%|██████████| 17049/17049 [08:16<00:00, 34.33it/s]\n",
      "100%|██████████| 17049/17049 [03:40<00:00, 77.36it/s]\n"
     ]
    },
    {
     "name": "stdout",
     "output_type": "stream",
     "text": [
      "Train Loss: 3.35427, Eval Loss: 3.31617\n",
      "Epoch 50/100\n"
     ]
    },
    {
     "name": "stderr",
     "output_type": "stream",
     "text": [
      "100%|██████████| 17049/17049 [07:48<00:00, 36.39it/s]\n",
      "100%|██████████| 17049/17049 [03:37<00:00, 78.28it/s]\n"
     ]
    },
    {
     "name": "stdout",
     "output_type": "stream",
     "text": [
      "Train Loss: 3.35210, Eval Loss: 3.31083\n",
      "Model saved to ./saved_models/model_epoch_50.pth at epoch 50\n",
      "Loss plot saved to ./saved_models/loss_plot_epoch_50.png\n",
      "Epoch 51/100\n"
     ]
    },
    {
     "name": "stderr",
     "output_type": "stream",
     "text": [
      "100%|██████████| 17049/17049 [07:54<00:00, 35.95it/s]\n",
      "100%|██████████| 17049/17049 [03:43<00:00, 76.40it/s]\n"
     ]
    },
    {
     "name": "stdout",
     "output_type": "stream",
     "text": [
      "Train Loss: 3.35016, Eval Loss: 3.31024\n",
      "Epoch 52/100\n"
     ]
    },
    {
     "name": "stderr",
     "output_type": "stream",
     "text": [
      "100%|██████████| 17049/17049 [08:03<00:00, 35.28it/s]\n",
      "100%|██████████| 17049/17049 [03:43<00:00, 76.39it/s]\n"
     ]
    },
    {
     "name": "stdout",
     "output_type": "stream",
     "text": [
      "Train Loss: 3.34811, Eval Loss: 3.30898\n",
      "Epoch 53/100\n"
     ]
    },
    {
     "name": "stderr",
     "output_type": "stream",
     "text": [
      "100%|██████████| 17049/17049 [07:59<00:00, 35.52it/s]\n",
      "100%|██████████| 17049/17049 [03:39<00:00, 77.62it/s]\n"
     ]
    },
    {
     "name": "stdout",
     "output_type": "stream",
     "text": [
      "Train Loss: 3.34613, Eval Loss: 3.30836\n",
      "Epoch 54/100\n"
     ]
    },
    {
     "name": "stderr",
     "output_type": "stream",
     "text": [
      "100%|██████████| 17049/17049 [08:01<00:00, 35.38it/s]\n",
      "100%|██████████| 17049/17049 [03:41<00:00, 76.83it/s]\n"
     ]
    },
    {
     "name": "stdout",
     "output_type": "stream",
     "text": [
      "Train Loss: 3.34436, Eval Loss: 3.30617\n",
      "Epoch 55/100\n"
     ]
    },
    {
     "name": "stderr",
     "output_type": "stream",
     "text": [
      "100%|██████████| 17049/17049 [07:56<00:00, 35.78it/s]\n",
      "100%|██████████| 17049/17049 [03:37<00:00, 78.38it/s]\n"
     ]
    },
    {
     "name": "stdout",
     "output_type": "stream",
     "text": [
      "Train Loss: 3.34244, Eval Loss: 3.30332\n",
      "Epoch 56/100\n"
     ]
    },
    {
     "name": "stderr",
     "output_type": "stream",
     "text": [
      "100%|██████████| 17049/17049 [07:48<00:00, 36.40it/s]\n",
      "100%|██████████| 17049/17049 [03:37<00:00, 78.32it/s]\n"
     ]
    },
    {
     "name": "stdout",
     "output_type": "stream",
     "text": [
      "Train Loss: 3.34068, Eval Loss: 3.30072\n",
      "Epoch 57/100\n"
     ]
    },
    {
     "name": "stderr",
     "output_type": "stream",
     "text": [
      "100%|██████████| 17049/17049 [08:05<00:00, 35.11it/s]\n",
      "100%|██████████| 17049/17049 [03:38<00:00, 78.15it/s]\n"
     ]
    },
    {
     "name": "stdout",
     "output_type": "stream",
     "text": [
      "Train Loss: 3.33899, Eval Loss: 3.29933\n",
      "Epoch 58/100\n"
     ]
    },
    {
     "name": "stderr",
     "output_type": "stream",
     "text": [
      "100%|██████████| 17049/17049 [08:06<00:00, 35.01it/s]\n",
      "100%|██████████| 17049/17049 [03:37<00:00, 78.28it/s]\n"
     ]
    },
    {
     "name": "stdout",
     "output_type": "stream",
     "text": [
      "Train Loss: 3.33745, Eval Loss: 3.29795\n",
      "Epoch 59/100\n"
     ]
    },
    {
     "name": "stderr",
     "output_type": "stream",
     "text": [
      "100%|██████████| 17049/17049 [07:48<00:00, 36.38it/s]\n",
      "100%|██████████| 17049/17049 [03:37<00:00, 78.31it/s]\n"
     ]
    },
    {
     "name": "stdout",
     "output_type": "stream",
     "text": [
      "Train Loss: 3.33576, Eval Loss: 3.29530\n",
      "Epoch 60/100\n"
     ]
    },
    {
     "name": "stderr",
     "output_type": "stream",
     "text": [
      "100%|██████████| 17049/17049 [07:48<00:00, 36.38it/s]\n",
      "100%|██████████| 17049/17049 [03:37<00:00, 78.27it/s]\n"
     ]
    },
    {
     "name": "stdout",
     "output_type": "stream",
     "text": [
      "Train Loss: 3.33412, Eval Loss: 3.29343\n",
      "Model saved to ./saved_models/model_epoch_60.pth at epoch 60\n",
      "Loss plot saved to ./saved_models/loss_plot_epoch_60.png\n",
      "Epoch 61/100\n"
     ]
    },
    {
     "name": "stderr",
     "output_type": "stream",
     "text": [
      "100%|██████████| 17049/17049 [07:48<00:00, 36.39it/s]\n",
      "100%|██████████| 17049/17049 [03:37<00:00, 78.29it/s]\n"
     ]
    },
    {
     "name": "stdout",
     "output_type": "stream",
     "text": [
      "Train Loss: 3.33265, Eval Loss: 3.29799\n",
      "Epoch 62/100\n"
     ]
    },
    {
     "name": "stderr",
     "output_type": "stream",
     "text": [
      "100%|██████████| 17049/17049 [07:48<00:00, 36.38it/s]\n",
      "100%|██████████| 17049/17049 [03:37<00:00, 78.32it/s]\n"
     ]
    },
    {
     "name": "stdout",
     "output_type": "stream",
     "text": [
      "Train Loss: 3.33103, Eval Loss: 3.29096\n",
      "Epoch 63/100\n"
     ]
    },
    {
     "name": "stderr",
     "output_type": "stream",
     "text": [
      "100%|██████████| 17049/17049 [07:48<00:00, 36.38it/s]\n",
      "100%|██████████| 17049/17049 [03:37<00:00, 78.32it/s]\n"
     ]
    },
    {
     "name": "stdout",
     "output_type": "stream",
     "text": [
      "Train Loss: 3.32967, Eval Loss: 3.28844\n",
      "Epoch 64/100\n"
     ]
    },
    {
     "name": "stderr",
     "output_type": "stream",
     "text": [
      "100%|██████████| 17049/17049 [07:48<00:00, 36.38it/s]\n",
      "100%|██████████| 17049/17049 [03:37<00:00, 78.29it/s]\n"
     ]
    },
    {
     "name": "stdout",
     "output_type": "stream",
     "text": [
      "Train Loss: 3.32814, Eval Loss: 3.28570\n",
      "Epoch 65/100\n"
     ]
    },
    {
     "name": "stderr",
     "output_type": "stream",
     "text": [
      "100%|██████████| 17049/17049 [07:48<00:00, 36.38it/s]\n",
      "100%|██████████| 17049/17049 [03:37<00:00, 78.31it/s]\n"
     ]
    },
    {
     "name": "stdout",
     "output_type": "stream",
     "text": [
      "Train Loss: 3.32674, Eval Loss: 3.28946\n",
      "Epoch 66/100\n"
     ]
    },
    {
     "name": "stderr",
     "output_type": "stream",
     "text": [
      "100%|██████████| 17049/17049 [07:48<00:00, 36.41it/s]\n",
      "100%|██████████| 17049/17049 [03:37<00:00, 78.37it/s]\n"
     ]
    },
    {
     "name": "stdout",
     "output_type": "stream",
     "text": [
      "Train Loss: 3.32534, Eval Loss: 3.28225\n",
      "Epoch 67/100\n"
     ]
    },
    {
     "name": "stderr",
     "output_type": "stream",
     "text": [
      "100%|██████████| 17049/17049 [07:54<00:00, 35.96it/s]\n",
      "100%|██████████| 17049/17049 [03:36<00:00, 78.65it/s]\n"
     ]
    },
    {
     "name": "stdout",
     "output_type": "stream",
     "text": [
      "Train Loss: 3.32405, Eval Loss: 3.28529\n",
      "Epoch 68/100\n"
     ]
    },
    {
     "name": "stderr",
     "output_type": "stream",
     "text": [
      "100%|██████████| 17049/17049 [08:02<00:00, 35.37it/s]\n",
      "100%|██████████| 17049/17049 [03:37<00:00, 78.30it/s]\n"
     ]
    },
    {
     "name": "stdout",
     "output_type": "stream",
     "text": [
      "Train Loss: 3.32275, Eval Loss: 3.28146\n",
      "Epoch 69/100\n"
     ]
    },
    {
     "name": "stderr",
     "output_type": "stream",
     "text": [
      "100%|██████████| 17049/17049 [07:46<00:00, 36.51it/s]\n",
      "100%|██████████| 17049/17049 [03:42<00:00, 76.65it/s]\n"
     ]
    },
    {
     "name": "stdout",
     "output_type": "stream",
     "text": [
      "Train Loss: 3.32151, Eval Loss: 3.28184\n",
      "Epoch 70/100\n"
     ]
    },
    {
     "name": "stderr",
     "output_type": "stream",
     "text": [
      "100%|██████████| 17049/17049 [07:55<00:00, 35.84it/s]\n",
      "100%|██████████| 17049/17049 [03:37<00:00, 78.30it/s]\n"
     ]
    },
    {
     "name": "stdout",
     "output_type": "stream",
     "text": [
      "Train Loss: 3.32018, Eval Loss: 3.27836\n",
      "Model saved to ./saved_models/model_epoch_70.pth at epoch 70\n",
      "Loss plot saved to ./saved_models/loss_plot_epoch_70.png\n",
      "Epoch 71/100\n"
     ]
    },
    {
     "name": "stderr",
     "output_type": "stream",
     "text": [
      "100%|██████████| 17049/17049 [07:46<00:00, 36.52it/s]\n",
      "100%|██████████| 17049/17049 [03:37<00:00, 78.34it/s]\n"
     ]
    },
    {
     "name": "stdout",
     "output_type": "stream",
     "text": [
      "Train Loss: 3.31895, Eval Loss: 3.27752\n",
      "Epoch 72/100\n"
     ]
    },
    {
     "name": "stderr",
     "output_type": "stream",
     "text": [
      "100%|██████████| 17049/17049 [07:47<00:00, 36.45it/s]\n",
      "100%|██████████| 17049/17049 [03:38<00:00, 78.12it/s]\n"
     ]
    },
    {
     "name": "stdout",
     "output_type": "stream",
     "text": [
      "Train Loss: 3.31782, Eval Loss: 3.27756\n",
      "Epoch 73/100\n"
     ]
    },
    {
     "name": "stderr",
     "output_type": "stream",
     "text": [
      "100%|██████████| 17049/17049 [08:05<00:00, 35.14it/s]\n",
      "100%|██████████| 17049/17049 [03:37<00:00, 78.33it/s]\n"
     ]
    },
    {
     "name": "stdout",
     "output_type": "stream",
     "text": [
      "Train Loss: 3.31668, Eval Loss: 3.27787\n",
      "Epoch 74/100\n"
     ]
    },
    {
     "name": "stderr",
     "output_type": "stream",
     "text": [
      "100%|██████████| 17049/17049 [08:06<00:00, 35.01it/s]\n",
      "100%|██████████| 17049/17049 [03:37<00:00, 78.35it/s]\n"
     ]
    },
    {
     "name": "stdout",
     "output_type": "stream",
     "text": [
      "Train Loss: 3.31536, Eval Loss: 3.27590\n",
      "Epoch 75/100\n"
     ]
    },
    {
     "name": "stderr",
     "output_type": "stream",
     "text": [
      "100%|██████████| 17049/17049 [07:48<00:00, 36.40it/s]\n",
      "100%|██████████| 17049/17049 [03:37<00:00, 78.37it/s]\n"
     ]
    },
    {
     "name": "stdout",
     "output_type": "stream",
     "text": [
      "Train Loss: 3.31431, Eval Loss: 3.27371\n",
      "Epoch 76/100\n"
     ]
    },
    {
     "name": "stderr",
     "output_type": "stream",
     "text": [
      "100%|██████████| 17049/17049 [07:48<00:00, 36.40it/s]\n",
      "100%|██████████| 17049/17049 [03:37<00:00, 78.38it/s]\n"
     ]
    },
    {
     "name": "stdout",
     "output_type": "stream",
     "text": [
      "Train Loss: 3.31328, Eval Loss: 3.27352\n",
      "Epoch 77/100\n"
     ]
    },
    {
     "name": "stderr",
     "output_type": "stream",
     "text": [
      "100%|██████████| 17049/17049 [07:52<00:00, 36.06it/s]\n",
      "100%|██████████| 17049/17049 [03:36<00:00, 78.63it/s]\n"
     ]
    },
    {
     "name": "stdout",
     "output_type": "stream",
     "text": [
      "Train Loss: 3.31218, Eval Loss: 3.27137\n",
      "Epoch 78/100\n"
     ]
    },
    {
     "name": "stderr",
     "output_type": "stream",
     "text": [
      "100%|██████████| 17049/17049 [07:53<00:00, 36.01it/s]\n",
      "100%|██████████| 17049/17049 [03:31<00:00, 80.44it/s]\n"
     ]
    },
    {
     "name": "stdout",
     "output_type": "stream",
     "text": [
      "Train Loss: 3.31116, Eval Loss: 3.27021\n",
      "Epoch 79/100\n"
     ]
    },
    {
     "name": "stderr",
     "output_type": "stream",
     "text": [
      "100%|██████████| 17049/17049 [07:48<00:00, 36.38it/s]\n",
      "100%|██████████| 17049/17049 [03:34<00:00, 79.57it/s]\n"
     ]
    },
    {
     "name": "stdout",
     "output_type": "stream",
     "text": [
      "Train Loss: 3.31013, Eval Loss: 3.27101\n",
      "Epoch 80/100\n"
     ]
    },
    {
     "name": "stderr",
     "output_type": "stream",
     "text": [
      "100%|██████████| 17049/17049 [07:54<00:00, 35.90it/s]\n",
      "100%|██████████| 17049/17049 [03:32<00:00, 80.39it/s]\n"
     ]
    },
    {
     "name": "stdout",
     "output_type": "stream",
     "text": [
      "Train Loss: 3.30908, Eval Loss: 3.26744\n",
      "Model saved to ./saved_models/model_epoch_80.pth at epoch 80\n",
      "Loss plot saved to ./saved_models/loss_plot_epoch_80.png\n",
      "Epoch 81/100\n"
     ]
    },
    {
     "name": "stderr",
     "output_type": "stream",
     "text": [
      "100%|██████████| 17049/17049 [07:48<00:00, 36.37it/s]\n",
      "100%|██████████| 17049/17049 [03:37<00:00, 78.33it/s]\n"
     ]
    },
    {
     "name": "stdout",
     "output_type": "stream",
     "text": [
      "Train Loss: 3.30804, Eval Loss: 3.26653\n",
      "Epoch 82/100\n"
     ]
    },
    {
     "name": "stderr",
     "output_type": "stream",
     "text": [
      "100%|██████████| 17049/17049 [08:08<00:00, 34.93it/s]\n",
      "100%|██████████| 17049/17049 [03:37<00:00, 78.27it/s]\n"
     ]
    },
    {
     "name": "stdout",
     "output_type": "stream",
     "text": [
      "Train Loss: 3.30699, Eval Loss: 3.26558\n",
      "Epoch 83/100\n"
     ]
    },
    {
     "name": "stderr",
     "output_type": "stream",
     "text": [
      "100%|██████████| 17049/17049 [08:00<00:00, 35.48it/s]\n",
      "100%|██████████| 17049/17049 [03:33<00:00, 79.80it/s]\n"
     ]
    },
    {
     "name": "stdout",
     "output_type": "stream",
     "text": [
      "Train Loss: 3.30622, Eval Loss: 3.26469\n",
      "Epoch 84/100\n"
     ]
    },
    {
     "name": "stderr",
     "output_type": "stream",
     "text": [
      "100%|██████████| 17049/17049 [07:48<00:00, 36.40it/s]\n",
      "100%|██████████| 17049/17049 [03:31<00:00, 80.45it/s]\n"
     ]
    },
    {
     "name": "stdout",
     "output_type": "stream",
     "text": [
      "Train Loss: 3.30510, Eval Loss: 3.26384\n",
      "Epoch 85/100\n"
     ]
    },
    {
     "name": "stderr",
     "output_type": "stream",
     "text": [
      "100%|██████████| 17049/17049 [07:48<00:00, 36.41it/s]\n",
      "100%|██████████| 17049/17049 [03:31<00:00, 80.45it/s]\n"
     ]
    },
    {
     "name": "stdout",
     "output_type": "stream",
     "text": [
      "Train Loss: 3.30436, Eval Loss: 3.26152\n",
      "Epoch 86/100\n"
     ]
    },
    {
     "name": "stderr",
     "output_type": "stream",
     "text": [
      "100%|██████████| 17049/17049 [07:48<00:00, 36.40it/s]\n",
      "100%|██████████| 17049/17049 [03:31<00:00, 80.43it/s]\n"
     ]
    },
    {
     "name": "stdout",
     "output_type": "stream",
     "text": [
      "Train Loss: 3.30347, Eval Loss: 3.26355\n",
      "Epoch 87/100\n"
     ]
    },
    {
     "name": "stderr",
     "output_type": "stream",
     "text": [
      "100%|██████████| 17049/17049 [07:48<00:00, 36.40it/s]\n",
      "100%|██████████| 17049/17049 [03:31<00:00, 80.47it/s]\n"
     ]
    },
    {
     "name": "stdout",
     "output_type": "stream",
     "text": [
      "Train Loss: 3.30249, Eval Loss: 3.26280\n",
      "Epoch 88/100\n"
     ]
    },
    {
     "name": "stderr",
     "output_type": "stream",
     "text": [
      "100%|██████████| 17049/17049 [07:48<00:00, 36.40it/s]\n",
      "100%|██████████| 17049/17049 [03:33<00:00, 80.04it/s]\n"
     ]
    },
    {
     "name": "stdout",
     "output_type": "stream",
     "text": [
      "Train Loss: 3.30158, Eval Loss: 3.26151\n",
      "Epoch 89/100\n"
     ]
    },
    {
     "name": "stderr",
     "output_type": "stream",
     "text": [
      "100%|██████████| 17049/17049 [08:10<00:00, 34.79it/s]\n",
      "100%|██████████| 17049/17049 [03:37<00:00, 78.32it/s]\n"
     ]
    },
    {
     "name": "stdout",
     "output_type": "stream",
     "text": [
      "Train Loss: 3.30068, Eval Loss: 3.25892\n",
      "Epoch 90/100\n"
     ]
    },
    {
     "name": "stderr",
     "output_type": "stream",
     "text": [
      "100%|██████████| 17049/17049 [08:03<00:00, 35.26it/s]\n",
      "100%|██████████| 17049/17049 [03:39<00:00, 77.78it/s]\n"
     ]
    },
    {
     "name": "stdout",
     "output_type": "stream",
     "text": [
      "Train Loss: 3.29982, Eval Loss: 3.25992\n",
      "Model saved to ./saved_models/model_epoch_90.pth at epoch 90\n",
      "Loss plot saved to ./saved_models/loss_plot_epoch_90.png\n",
      "Epoch 91/100\n"
     ]
    },
    {
     "name": "stderr",
     "output_type": "stream",
     "text": [
      "100%|██████████| 17049/17049 [07:48<00:00, 36.38it/s]\n",
      "100%|██████████| 17049/17049 [03:37<00:00, 78.33it/s]\n"
     ]
    },
    {
     "name": "stdout",
     "output_type": "stream",
     "text": [
      "Train Loss: 3.29900, Eval Loss: 3.25725\n",
      "Epoch 92/100\n"
     ]
    },
    {
     "name": "stderr",
     "output_type": "stream",
     "text": [
      "100%|██████████| 17049/17049 [07:48<00:00, 36.38it/s]\n",
      "100%|██████████| 17049/17049 [03:37<00:00, 78.32it/s]\n"
     ]
    },
    {
     "name": "stdout",
     "output_type": "stream",
     "text": [
      "Train Loss: 3.29821, Eval Loss: 3.25933\n",
      "Epoch 93/100\n"
     ]
    },
    {
     "name": "stderr",
     "output_type": "stream",
     "text": [
      "100%|██████████| 17049/17049 [07:48<00:00, 36.38it/s]\n",
      "100%|██████████| 17049/17049 [03:37<00:00, 78.34it/s]\n"
     ]
    },
    {
     "name": "stdout",
     "output_type": "stream",
     "text": [
      "Train Loss: 3.29752, Eval Loss: 3.25553\n",
      "Epoch 94/100\n"
     ]
    },
    {
     "name": "stderr",
     "output_type": "stream",
     "text": [
      "100%|██████████| 17049/17049 [07:48<00:00, 36.37it/s]\n",
      "100%|██████████| 17049/17049 [03:37<00:00, 78.29it/s]\n"
     ]
    },
    {
     "name": "stdout",
     "output_type": "stream",
     "text": [
      "Train Loss: 3.29658, Eval Loss: 3.25498\n",
      "Epoch 95/100\n"
     ]
    },
    {
     "name": "stderr",
     "output_type": "stream",
     "text": [
      "100%|██████████| 17049/17049 [07:48<00:00, 36.38it/s]\n",
      "100%|██████████| 17049/17049 [03:37<00:00, 78.31it/s]\n"
     ]
    },
    {
     "name": "stdout",
     "output_type": "stream",
     "text": [
      "Train Loss: 3.29580, Eval Loss: 3.25320\n",
      "Epoch 96/100\n"
     ]
    },
    {
     "name": "stderr",
     "output_type": "stream",
     "text": [
      "100%|██████████| 17049/17049 [07:48<00:00, 36.38it/s]\n",
      "100%|██████████| 17049/17049 [03:37<00:00, 78.32it/s]\n"
     ]
    },
    {
     "name": "stdout",
     "output_type": "stream",
     "text": [
      "Train Loss: 3.29501, Eval Loss: 3.25691\n",
      "Epoch 97/100\n"
     ]
    },
    {
     "name": "stderr",
     "output_type": "stream",
     "text": [
      "100%|██████████| 17049/17049 [07:48<00:00, 36.38it/s]\n",
      "100%|██████████| 17049/17049 [03:37<00:00, 78.34it/s]\n"
     ]
    },
    {
     "name": "stdout",
     "output_type": "stream",
     "text": [
      "Train Loss: 3.29432, Eval Loss: 3.25208\n",
      "Epoch 98/100\n"
     ]
    },
    {
     "name": "stderr",
     "output_type": "stream",
     "text": [
      "100%|██████████| 17049/17049 [07:48<00:00, 36.37it/s]\n",
      "100%|██████████| 17049/17049 [03:37<00:00, 78.31it/s]\n"
     ]
    },
    {
     "name": "stdout",
     "output_type": "stream",
     "text": [
      "Train Loss: 3.29357, Eval Loss: 3.25615\n",
      "Epoch 99/100\n"
     ]
    },
    {
     "name": "stderr",
     "output_type": "stream",
     "text": [
      "100%|██████████| 17049/17049 [07:48<00:00, 36.37it/s]\n",
      "100%|██████████| 17049/17049 [03:37<00:00, 78.29it/s]\n"
     ]
    },
    {
     "name": "stdout",
     "output_type": "stream",
     "text": [
      "Train Loss: 3.29274, Eval Loss: 3.25234\n",
      "Epoch 100/100\n"
     ]
    },
    {
     "name": "stderr",
     "output_type": "stream",
     "text": [
      "100%|██████████| 17049/17049 [07:48<00:00, 36.37it/s]\n",
      "100%|██████████| 17049/17049 [03:37<00:00, 78.31it/s]\n"
     ]
    },
    {
     "name": "stdout",
     "output_type": "stream",
     "text": [
      "Train Loss: 3.29208, Eval Loss: 3.24892\n",
      "Model saved to ./saved_models/model_epoch_100.pth at epoch 100\n",
      "Loss plot saved to ./saved_models/loss_plot_epoch_100.png\n"
     ]
    }
   ],
   "source": [
    "model.train_loop(epochs=100, train_dataloader=train_dataloader, lr=LEARNING_RATE, save_path=SAVE_PATH)"
   ]
  },
  {
   "cell_type": "markdown",
   "metadata": {},
   "source": [
    "# Генерация текста (5 баллов) \n",
    "\n",
    "Реализуйте функцию, которая продолжает текст.\n",
    "1.   Переведите строчку в токены\n",
    "2.   Реализуйте код который предсказывает вероятность следующей буквы\n",
    "3.   Семплируйте следующую букву\n",
    "4.   Повторяйте пункты 2-3 в цикле\n",
    "5.   Преобразуйте токены в строчку"
   ]
  },
  {
   "cell_type": "code",
   "execution_count": 8,
   "metadata": {},
   "outputs": [
    {
     "name": "stdout",
     "output_type": "stream",
     "text": [
      "Loaded model from model_epoch_100.pth\n"
     ]
    },
    {
     "name": "stderr",
     "output_type": "stream",
     "text": [
      "/home/super-pc2/Документы/test/data_generator.py:145: FutureWarning: You are using `torch.load` with `weights_only=False` (the current default value), which uses the default pickle module implicitly. It is possible to construct malicious pickle data which will execute arbitrary code during unpickling (See https://github.com/pytorch/pytorch/blob/main/SECURITY.md#untrusted-models for more details). In a future release, the default value for `weights_only` will be flipped to `True`. This limits the functions that could be executed during unpickling. Arbitrary objects will no longer be allowed to be loaded via this mode unless they are explicitly allowlisted by the user via `torch.serialization.add_safe_globals`. We recommend you start setting `weights_only=True` for any use case where you don't have full control of the loaded file. Please open an issue on GitHub for any issues related to this experimental feature.\n",
      "  checkpoint = torch.load(model_path, map_location=self.__device)\n"
     ]
    }
   ],
   "source": [
    "model.load_model(SAVE_PATH)"
   ]
  },
  {
   "cell_type": "code",
   "execution_count": 9,
   "metadata": {},
   "outputs": [
    {
     "data": {
      "text/plain": [
       "'я помню чудное мгновенье, когда я был в восторге, когда я был счастлив, когда я был счастлив, когда я был счастлив, когда я был счастлив...'"
      ]
     },
     "execution_count": 9,
     "metadata": {},
     "output_type": "execute_result"
    }
   ],
   "source": [
    "model.continues_sentence(\"Я помню чудное мгновенье\", dataset_maker.tokenizer)"
   ]
  },
  {
   "cell_type": "code",
   "execution_count": 10,
   "metadata": {},
   "outputs": [
    {
     "data": {
      "text/plain": [
       "'мои дядя самых честных правил, и я, как и прежде, не знаю, как я его, и не знаю, но я его и не знаю. - - - - -'"
      ]
     },
     "execution_count": 10,
     "metadata": {},
     "output_type": "execute_result"
    }
   ],
   "source": [
    "model.continues_sentence(\"Мой дядя самых честных правил,\", dataset_maker.tokenizer)"
   ]
  },
  {
   "cell_type": "code",
   "execution_count": 11,
   "metadata": {},
   "outputs": [
    {
     "data": {
      "text/plain": [
       "'четыре года потратил деонардо наемнои, и, как я вижу, в этои самои комнате, в которои я был в таком положении, что я не могу'"
      ]
     },
     "execution_count": 11,
     "metadata": {},
     "output_type": "execute_result"
    }
   ],
   "source": [
    "model.continues_sentence(\"Четыре года потратил Деонардо на\", dataset_maker.tokenizer)"
   ]
  },
  {
   "cell_type": "code",
   "execution_count": 12,
   "metadata": {},
   "outputs": [
    {
     "data": {
      "text/plain": [
       "'если сила плохих людеи в том, что они вместе, то хорошим людям, чтобы стать силои, надо быть им, и потому, чтобы они были в этом мире, они не могут не видеть того, что они не могут не видеть того, что они'"
      ]
     },
     "execution_count": 12,
     "metadata": {},
     "output_type": "execute_result"
    }
   ],
   "source": [
    "\n",
    "model.continues_sentence(\"Если сила плохих людей в том, что они вместе, то хорошим людям, чтобы стать силой, надо\", dataset_maker.tokenizer)"
   ]
  }
 ],
 "metadata": {
  "kernelspec": {
   "display_name": ".venv",
   "language": "python",
   "name": "python3"
  },
  "language_info": {
   "codemirror_mode": {
    "name": "ipython",
    "version": 3
   },
   "file_extension": ".py",
   "mimetype": "text/x-python",
   "name": "python",
   "nbconvert_exporter": "python",
   "pygments_lexer": "ipython3",
   "version": "3.12.3"
  }
 },
 "nbformat": 4,
 "nbformat_minor": 2
}
